{
  "nbformat": 4,
  "nbformat_minor": 0,
  "metadata": {
    "kernelspec": {
      "name": "python3",
      "display_name": "Python 3"
    },
    "language_info": {
      "codemirror_mode": {
        "name": "ipython",
        "version": 3
      },
      "file_extension": ".py",
      "mimetype": "text/x-python",
      "name": "python",
      "nbconvert_exporter": "python",
      "pygments_lexer": "ipython3",
      "version": "3.6.7"
    },
    "colab": {
      "name": "4_4_GPU.ipynb",
      "provenance": [],
      "include_colab_link": true
    },
    "accelerator": "GPU"
  },
  "cells": [
    {
      "cell_type": "markdown",
      "metadata": {
        "id": "view-in-github",
        "colab_type": "text"
      },
      "source": [
        "<a href=\"https://colab.research.google.com/github/Lewislou/Pytorch-pratical-Learning/blob/master/4_4_GPU.ipynb\" target=\"_parent\"><img src=\"https://colab.research.google.com/assets/colab-badge.svg\" alt=\"Open In Colab\"/></a>"
      ]
    },
    {
      "cell_type": "markdown",
      "metadata": {
        "deletable": false,
        "editable": false,
        "nbgrader": {
          "checksum": "4972f311d33e889babafe6f6e44edc5f",
          "grade": false,
          "grade_id": "cell-8115527bd0e08e63",
          "locked": true,
          "schema_version": 1,
          "solution": false
        },
        "id": "mT-lHtM5bgWf",
        "colab_type": "text"
      },
      "source": [
        "# Part 4: Using GPU acceleration with PyTorch"
      ]
    },
    {
      "cell_type": "code",
      "metadata": {
        "deletable": false,
        "editable": false,
        "nbgrader": {
          "checksum": "8ef6029eb23fe884594de09e1cd97769",
          "grade": false,
          "grade_id": "cell-2e8abb75fa5d4222",
          "locked": true,
          "schema_version": 1,
          "solution": false
        },
        "id": "IF_XK0iRbgWj",
        "colab_type": "code",
        "outputId": "49a1d27d-b799-4455-b423-4c1195cd3ba8",
        "colab": {
          "base_uri": "https://localhost:8080/",
          "height": 176
        }
      },
      "source": [
        "# Execute this code block to install dependencies when running on colab\n",
        "try:\n",
        "    import torch\n",
        "except:\n",
        "    from os.path import exists\n",
        "    from wheel.pep425tags import get_abbr_impl, get_impl_ver, get_abi_tag\n",
        "    platform = '{}{}-{}'.format(get_abbr_impl(), get_impl_ver(), get_abi_tag())\n",
        "    cuda_output = !ldconfig -p|grep cudart.so|sed -e 's/.*\\.\\([0-9]*\\)\\.\\([0-9]*\\)$/cu\\1\\2/'\n",
        "    accelerator = cuda_output[0] if exists('/dev/nvidia0') else 'cpu'\n",
        "\n",
        "    !pip install -q http://download.pytorch.org/whl/{accelerator}/torch-1.0.0-{platform}-linux_x86_64.whl torchvision\n",
        "\n",
        "try: \n",
        "    import torchbearer\n",
        "except:\n",
        "    !pip install torchbearer"
      ],
      "execution_count": 0,
      "outputs": [
        {
          "output_type": "stream",
          "text": [
            "Collecting torchbearer\n",
            "\u001b[?25l  Downloading https://files.pythonhosted.org/packages/ff/e9/4049a47dd2e5b6346a2c5d215b0c67dce814afbab1cd54ce024533c4834e/torchbearer-0.5.3-py3-none-any.whl (138kB)\n",
            "\r\u001b[K     |██▍                             | 10kB 14.6MB/s eta 0:00:01\r\u001b[K     |████▊                           | 20kB 1.7MB/s eta 0:00:01\r\u001b[K     |███████▏                        | 30kB 2.5MB/s eta 0:00:01\r\u001b[K     |█████████▌                      | 40kB 1.7MB/s eta 0:00:01\r\u001b[K     |███████████▉                    | 51kB 2.1MB/s eta 0:00:01\r\u001b[K     |██████████████▎                 | 61kB 2.5MB/s eta 0:00:01\r\u001b[K     |████████████████▋               | 71kB 2.8MB/s eta 0:00:01\r\u001b[K     |███████████████████             | 81kB 3.2MB/s eta 0:00:01\r\u001b[K     |█████████████████████▍          | 92kB 3.5MB/s eta 0:00:01\r\u001b[K     |███████████████████████▊        | 102kB 2.8MB/s eta 0:00:01\r\u001b[K     |██████████████████████████      | 112kB 2.8MB/s eta 0:00:01\r\u001b[K     |████████████████████████████▌   | 122kB 2.8MB/s eta 0:00:01\r\u001b[K     |██████████████████████████████▉ | 133kB 2.8MB/s eta 0:00:01\r\u001b[K     |████████████████████████████████| 143kB 2.8MB/s \n",
            "\u001b[?25hRequirement already satisfied: torch>=1.0.0 in /usr/local/lib/python3.6/dist-packages (from torchbearer) (1.4.0)\n",
            "Requirement already satisfied: numpy in /usr/local/lib/python3.6/dist-packages (from torchbearer) (1.17.5)\n",
            "Requirement already satisfied: tqdm in /usr/local/lib/python3.6/dist-packages (from torchbearer) (4.28.1)\n",
            "Installing collected packages: torchbearer\n",
            "Successfully installed torchbearer-0.5.3\n"
          ],
          "name": "stdout"
        }
      ]
    },
    {
      "cell_type": "markdown",
      "metadata": {
        "deletable": false,
        "editable": false,
        "nbgrader": {
          "checksum": "5ad3d98e7a666f0550c48db3d40c9fb6",
          "grade": false,
          "grade_id": "cell-56a116e085aef83c",
          "locked": true,
          "schema_version": 1,
          "solution": false
        },
        "id": "msehiNKnbgWv",
        "colab_type": "text"
      },
      "source": [
        "## Manual use of `.cuda()`\n",
        "\n",
        "Now the magic of PyTorch comes in. So far, we've only been using the CPU to do computation. When we want to scale to a bigger problem, that won't be feasible for very long.\n",
        "|\n",
        "PyTorch makes it really easy to use the GPU for accelerating computation. Consider the following code that computes the element-wise product of two large matrices:"
      ]
    },
    {
      "cell_type": "code",
      "metadata": {
        "id": "MIGFSzChbgWx",
        "colab_type": "code",
        "outputId": "861d9880-9202-4959-b822-92ffc6b8220f",
        "colab": {
          "base_uri": "https://localhost:8080/",
          "height": 243
        }
      },
      "source": [
        "import torch\n",
        "\n",
        "t1 = torch.randn(1000, 1000)\n",
        "t2 = torch.randn(1000, 1000)\n",
        "t3 = t1*t2\n",
        "print(t3)"
      ],
      "execution_count": 0,
      "outputs": [
        {
          "output_type": "stream",
          "text": [
            "tensor([[ 5.2861e-04,  5.8179e-01,  4.6333e-01,  ...,  2.2627e-01,\n",
            "         -8.2378e-02,  1.0781e+00],\n",
            "        [ 2.1575e+00,  1.4869e+00, -1.8420e+00,  ...,  5.1600e-01,\n",
            "         -3.4442e+00, -5.2721e-03],\n",
            "        [-6.9793e-02,  3.0324e-01,  3.3978e-01,  ..., -1.3991e+00,\n",
            "         -3.4825e-01, -2.6279e-02],\n",
            "        ...,\n",
            "        [-1.7956e-02,  1.6970e-01, -1.4299e-01,  ...,  6.9882e-02,\n",
            "         -2.3071e+00,  4.2407e-02],\n",
            "        [ 6.6980e-02,  7.2593e-01,  1.1960e+00,  ..., -2.0026e-01,\n",
            "          2.1085e-01, -6.9605e-01],\n",
            "        [ 1.4919e+00,  2.9736e-01, -1.2249e+00,  ..., -6.7939e-01,\n",
            "         -1.7923e-01,  7.8726e-01]])\n"
          ],
          "name": "stdout"
        }
      ]
    },
    {
      "cell_type": "markdown",
      "metadata": {
        "deletable": false,
        "editable": false,
        "nbgrader": {
          "checksum": "6af792ab02ecca981f5c12685789f471",
          "grade": false,
          "grade_id": "cell-6849616c01cf9f25",
          "locked": true,
          "schema_version": 1,
          "solution": false
        },
        "id": "Z1Qy50UObgW0",
        "colab_type": "text"
      },
      "source": [
        "By sending all the tensors that we are using to the GPU, all the operations on them will also run on the GPU without having to change anything else. If you're running a non-cuda enabled version of PyTorch the following will throw an error; if you have cuda available the following will create the input matrices, copy them to the GPU and perform the multiplication on the GPU itself:"
      ]
    },
    {
      "cell_type": "code",
      "metadata": {
        "id": "9EDkSIFxbgW1",
        "colab_type": "code",
        "outputId": "0c41f416-6fd3-4673-e15a-987486372b3b",
        "colab": {
          "base_uri": "https://localhost:8080/",
          "height": 243
        }
      },
      "source": [
        "t1 = torch.randn(1000, 1000).cuda()\n",
        "t2 = torch.randn(1000, 1000).cuda()\n",
        "t3 = t1*t2\n",
        "print(t3)"
      ],
      "execution_count": 0,
      "outputs": [
        {
          "output_type": "stream",
          "text": [
            "tensor([[-3.4597e-01, -1.6933e-02,  7.9189e-01,  ...,  5.6216e-03,\n",
            "          1.0663e-01,  1.7085e-01],\n",
            "        [-7.4660e-01,  5.7166e-01, -4.9206e-01,  ..., -1.4364e+00,\n",
            "         -2.4030e-03, -5.1432e-01],\n",
            "        [ 1.7042e-01,  2.0903e-02, -2.9556e-01,  ...,  3.1874e+00,\n",
            "          2.4187e-01, -5.2116e-01],\n",
            "        ...,\n",
            "        [ 6.8482e-02, -1.3609e-02,  1.6439e+00,  ...,  1.1157e+00,\n",
            "          7.5659e-03,  4.9428e-01],\n",
            "        [ 5.8035e-01, -2.4535e-01,  3.2474e-01,  ...,  9.1662e-01,\n",
            "         -1.4529e-01,  7.3007e-02],\n",
            "        [-1.1170e+00, -3.7940e+00,  8.8640e-01,  ...,  2.7168e+00,\n",
            "          9.3212e-01,  2.0537e+00]], device='cuda:0')\n"
          ],
          "name": "stdout"
        }
      ]
    },
    {
      "cell_type": "markdown",
      "metadata": {
        "deletable": false,
        "editable": false,
        "nbgrader": {
          "checksum": "c771877e9beb32f8a49585373534dad1",
          "grade": false,
          "grade_id": "cell-2bca345a3c01999c",
          "locked": true,
          "schema_version": 1,
          "solution": false
        },
        "id": "G_A_GASFbgW7",
        "colab_type": "text"
      },
      "source": [
        "If you're running this workbook in colab, now enable GPU acceleration (`Runtime->Runtime Type` and add a `GPU` in the hardware accelerator pull-down). You'll then need to re-run all cells to this point.\n",
        "\n",
        "If you were able to run the above with hardware acceleration, the print-out of the result tensor would show that it was an instance of `cuda.FloatTensor` type on the the `(GPU 0)` GPU device. If your wanted to copy the tensor back to the CPU, you would use the `.cpu()` method."
      ]
    },
    {
      "cell_type": "markdown",
      "metadata": {
        "deletable": false,
        "editable": false,
        "nbgrader": {
          "checksum": "c064698f174abe4509b23c34a7912f44",
          "grade": false,
          "grade_id": "cell-e308141abb8d0e0c",
          "locked": true,
          "schema_version": 1,
          "solution": false
        },
        "id": "n_7v7bGfbgW9",
        "colab_type": "text"
      },
      "source": [
        "## Writing platform agnostic code\n",
        "\n",
        "Most of the time you'd like to write code that is device agnostic; that is it will run on a GPU if one is available, and otherwise it would fall back to the CPU. The recommended way to do this is as follows:"
      ]
    },
    {
      "cell_type": "code",
      "metadata": {
        "id": "OQx59Dq6bgW_",
        "colab_type": "code",
        "outputId": "2781a369-ded8-4011-f464-44cc0bd561af",
        "colab": {
          "base_uri": "https://localhost:8080/",
          "height": 156
        }
      },
      "source": [
        "device = \"cuda:0\" if torch.cuda.is_available() else \"cpu\"\n",
        "t1 = torch.randn(1000, 1000).to(device)\n",
        "t2 = torch.randn(1000, 1000).to(device)\n",
        "t3 = t1*t2\n",
        "print(t3)"
      ],
      "execution_count": 0,
      "outputs": [
        {
          "output_type": "stream",
          "text": [
            "tensor([[-0.2677, -0.0933, -2.1876,  ...,  0.1598, -0.1380,  0.5186],\n",
            "        [-0.6226,  1.5875, -0.8464,  ...,  0.4358,  1.4805, -0.1445],\n",
            "        [-0.5830,  0.3000, -0.0639,  ..., -0.4733, -0.2656,  0.5209],\n",
            "        ...,\n",
            "        [-0.7534,  2.0859, -0.3019,  ..., -0.0328, -0.1003, -0.1952],\n",
            "        [ 0.6380, -1.7874, -1.2514,  ...,  0.8244, -0.6818,  0.0619],\n",
            "        [-1.0866,  1.8005,  0.2937,  ..., -0.6485,  3.2878, -1.0093]],\n",
            "       device='cuda:0')\n"
          ],
          "name": "stdout"
        }
      ]
    },
    {
      "cell_type": "markdown",
      "metadata": {
        "deletable": false,
        "editable": false,
        "nbgrader": {
          "checksum": "b31bddc27c2bdeb593ee2498dfbd7e10",
          "grade": false,
          "grade_id": "cell-24f03f8a35648313",
          "locked": true,
          "schema_version": 1,
          "solution": false
        },
        "id": "sKOqR6vYbgXE",
        "colab_type": "text"
      },
      "source": [
        "## Accelerating neural net training\n",
        "\n",
        "If you wanted to accelerate the training of a neural net using raw PyTorch, you would have to copy both the model and the training data to the GPU. Unless you were using a really small dataset like MNIST, you would typically _stream_ the batches of training data to the GPU as you used them in the training loop:\n",
        "\n",
        "```python\n",
        "device = \"cuda:0\" if torch.cuda.is_available() else \"cpu\"\n",
        "model = BaselineModel(784, 784, 10).to(device)\n",
        "\n",
        "loss_function = ...\n",
        "optimiser = ...\n",
        "\n",
        "for epoch in range(10):\n",
        "    for data in trainloader:\n",
        "        inputs, labels = data\n",
        "        inputs, labels = inputs.to(device), labels.to(device)\n",
        "\n",
        "        optimiser.zero_grad()\n",
        "        outputs = model(inputs)\n",
        "        loss = loss_function(outputs, labels)\n",
        "        loss.backward()\n",
        "        optimiser.step()\n",
        "```\n",
        "\n",
        "Using Torchbearer, this becomes much simpler - you just tell the `Trial` to run on the GPU and that's it!:\n",
        "\n",
        "```python\n",
        "model = BetterCNN()\n",
        "\n",
        "loss_function = ...\n",
        "optimiser = ...\n",
        "\n",
        "device = \"cuda:0\" if torch.cuda.is_available() else \"cpu\"\n",
        "trial = Trial(model, optimiser, loss_function, metrics=['loss', 'accuracy']).to(device)\n",
        "trial.with_generators(trainloader)\n",
        "trial.run(epochs=10)\n",
        "```\n"
      ]
    },
    {
      "cell_type": "markdown",
      "metadata": {
        "deletable": false,
        "editable": false,
        "nbgrader": {
          "checksum": "064768c85834aa40d82396f9f3cccfac",
          "grade": false,
          "grade_id": "cell-cf0444554770e817",
          "locked": true,
          "schema_version": 1,
          "solution": false
        },
        "id": "0k9USUP-bgXG",
        "colab_type": "text"
      },
      "source": [
        "## Multiple GPUs\n",
        "\n",
        "Using multiple GPUs is beyond the scope of the lab, but if you have multiple cuda devices, they can be referred to by index: `cuda:0`, `cuda:1`, `cuda:2`, etc. You have to be careful not to mix operations on different devices, and would need how to carefully orchestrate moving of data between the devices (which can really slow down your code to the point at which using the CPU would actually be faster)."
      ]
    },
    {
      "cell_type": "markdown",
      "metadata": {
        "deletable": false,
        "editable": false,
        "nbgrader": {
          "checksum": "d698b1536be57d852780abaf08fcad68",
          "grade": false,
          "grade_id": "cell-f0f058c0af885275",
          "locked": true,
          "schema_version": 1,
          "solution": false
        },
        "id": "lExomN1mbgXJ",
        "colab_type": "text"
      },
      "source": [
        "## Questions\n",
        "\n",
        "__Answer the following questions (enter the answer in the box below each one):__\n",
        "\n",
        "__1.__ What features of GPUs allow them to perform computations faster than a typically CPU?"
      ]
    },
    {
      "cell_type": "markdown",
      "metadata": {
        "deletable": false,
        "nbgrader": {
          "checksum": "b1dc585b11c0e499f09e409017b6cb06",
          "grade": true,
          "grade_id": "cell-76fcc457388a8223",
          "locked": false,
          "points": 1,
          "schema_version": 1,
          "solution": true
        },
        "id": "QIajfmqVbgXK",
        "colab_type": "text"
      },
      "source": [
        "YOUR ANSWER HERE\\\\\\\n",
        "parallel computations.\\\\\\\n",
        "Nvidia created a parallel computing architecture and platform for its GPUs called CUDA, which gave developers access and the ability to express simple processing operations in parallel through code. "
      ]
    },
    {
      "cell_type": "markdown",
      "metadata": {
        "deletable": false,
        "editable": false,
        "nbgrader": {
          "checksum": "374801c6d757e48f93fe93618435c685",
          "grade": false,
          "grade_id": "cell-68f765cc2155e517",
          "locked": true,
          "schema_version": 1,
          "solution": false
        },
        "id": "Dd8gpHZwbgXO",
        "colab_type": "text"
      },
      "source": [
        "__2.__ What is the biggest limiting factor for training large models with current generation GPUs?"
      ]
    },
    {
      "cell_type": "markdown",
      "metadata": {
        "deletable": false,
        "nbgrader": {
          "checksum": "964d60951aa496908969f2ca35be3104",
          "grade": true,
          "grade_id": "cell-a147457afc2c4c40",
          "locked": false,
          "points": 1,
          "schema_version": 1,
          "solution": true
        },
        "id": "JV8JnhmJbgXQ",
        "colab_type": "text"
      },
      "source": [
        "YOUR ANSWER HERE\\\\\\\n",
        "GPU memory"
      ]
    }
  ]
}