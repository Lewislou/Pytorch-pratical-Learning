{
  "nbformat": 4,
  "nbformat_minor": 0,
  "metadata": {
    "kernelspec": {
      "display_name": "Python 3",
      "language": "python",
      "name": "python3"
    },
    "language_info": {
      "codemirror_mode": {
        "name": "ipython",
        "version": 3
      },
      "file_extension": ".py",
      "mimetype": "text/x-python",
      "name": "python",
      "nbconvert_exporter": "python",
      "pygments_lexer": "ipython3",
      "version": "3.6.7"
    },
    "colab": {
      "name": "7_1_SequenceModelling.ipynb",
      "provenance": [],
      "include_colab_link": true
    },
    "accelerator": "GPU",
    "widgets": {
      "application/vnd.jupyter.widget-state+json": {
        "910aa63d30e04b72a25d4e8639bdd1e4": {
          "model_module": "@jupyter-widgets/controls",
          "model_name": "HBoxModel",
          "state": {
            "_view_name": "HBoxView",
            "_dom_classes": [],
            "_model_name": "HBoxModel",
            "_view_module": "@jupyter-widgets/controls",
            "_model_module_version": "1.5.0",
            "_view_count": null,
            "_view_module_version": "1.5.0",
            "box_style": "",
            "layout": "IPY_MODEL_0036ac876b464f8e929e884d557a9957",
            "_model_module": "@jupyter-widgets/controls",
            "children": [
              "IPY_MODEL_92e9814267ca41efb86e34b75e46a8fb",
              "IPY_MODEL_a8d7225af54441ed8c8024e7a56940fd"
            ]
          }
        },
        "0036ac876b464f8e929e884d557a9957": {
          "model_module": "@jupyter-widgets/base",
          "model_name": "LayoutModel",
          "state": {
            "_view_name": "LayoutView",
            "grid_template_rows": null,
            "right": null,
            "justify_content": null,
            "_view_module": "@jupyter-widgets/base",
            "overflow": null,
            "_model_module_version": "1.2.0",
            "_view_count": null,
            "flex_flow": null,
            "width": null,
            "min_width": null,
            "border": null,
            "align_items": null,
            "bottom": null,
            "_model_module": "@jupyter-widgets/base",
            "top": null,
            "grid_column": null,
            "overflow_y": null,
            "overflow_x": null,
            "grid_auto_flow": null,
            "grid_area": null,
            "grid_template_columns": null,
            "flex": null,
            "_model_name": "LayoutModel",
            "justify_items": null,
            "grid_row": null,
            "max_height": null,
            "align_content": null,
            "visibility": null,
            "align_self": null,
            "height": null,
            "min_height": null,
            "padding": null,
            "grid_auto_rows": null,
            "grid_gap": null,
            "max_width": null,
            "order": null,
            "_view_module_version": "1.2.0",
            "grid_template_areas": null,
            "object_position": null,
            "object_fit": null,
            "grid_auto_columns": null,
            "margin": null,
            "display": null,
            "left": null
          }
        },
        "92e9814267ca41efb86e34b75e46a8fb": {
          "model_module": "@jupyter-widgets/controls",
          "model_name": "FloatProgressModel",
          "state": {
            "_view_name": "ProgressView",
            "style": "IPY_MODEL_ac8b2c028e414624a241200da0fe2fee",
            "_dom_classes": [],
            "description": "",
            "_model_name": "FloatProgressModel",
            "bar_style": "info",
            "max": 1,
            "_view_module": "@jupyter-widgets/controls",
            "_model_module_version": "1.5.0",
            "value": 1,
            "_view_count": null,
            "_view_module_version": "1.5.0",
            "orientation": "horizontal",
            "min": 0,
            "description_tooltip": null,
            "_model_module": "@jupyter-widgets/controls",
            "layout": "IPY_MODEL_9d7571e51617429989100c253d159104"
          }
        },
        "a8d7225af54441ed8c8024e7a56940fd": {
          "model_module": "@jupyter-widgets/controls",
          "model_name": "HTMLModel",
          "state": {
            "_view_name": "HTMLView",
            "style": "IPY_MODEL_0437ba26308b42aa98cda41f770d0d5b",
            "_dom_classes": [],
            "description": "",
            "_model_name": "HTMLModel",
            "placeholder": "​",
            "_view_module": "@jupyter-widgets/controls",
            "_model_module_version": "1.5.0",
            "value": " 606208/? [00:20&lt;00:00, 497090.27it/s]",
            "_view_count": null,
            "_view_module_version": "1.5.0",
            "description_tooltip": null,
            "_model_module": "@jupyter-widgets/controls",
            "layout": "IPY_MODEL_0865636818144faba19951a5056b0590"
          }
        },
        "ac8b2c028e414624a241200da0fe2fee": {
          "model_module": "@jupyter-widgets/controls",
          "model_name": "ProgressStyleModel",
          "state": {
            "_view_name": "StyleView",
            "_model_name": "ProgressStyleModel",
            "description_width": "initial",
            "_view_module": "@jupyter-widgets/base",
            "_model_module_version": "1.5.0",
            "_view_count": null,
            "_view_module_version": "1.2.0",
            "bar_color": null,
            "_model_module": "@jupyter-widgets/controls"
          }
        },
        "9d7571e51617429989100c253d159104": {
          "model_module": "@jupyter-widgets/base",
          "model_name": "LayoutModel",
          "state": {
            "_view_name": "LayoutView",
            "grid_template_rows": null,
            "right": null,
            "justify_content": null,
            "_view_module": "@jupyter-widgets/base",
            "overflow": null,
            "_model_module_version": "1.2.0",
            "_view_count": null,
            "flex_flow": null,
            "width": null,
            "min_width": null,
            "border": null,
            "align_items": null,
            "bottom": null,
            "_model_module": "@jupyter-widgets/base",
            "top": null,
            "grid_column": null,
            "overflow_y": null,
            "overflow_x": null,
            "grid_auto_flow": null,
            "grid_area": null,
            "grid_template_columns": null,
            "flex": null,
            "_model_name": "LayoutModel",
            "justify_items": null,
            "grid_row": null,
            "max_height": null,
            "align_content": null,
            "visibility": null,
            "align_self": null,
            "height": null,
            "min_height": null,
            "padding": null,
            "grid_auto_rows": null,
            "grid_gap": null,
            "max_width": null,
            "order": null,
            "_view_module_version": "1.2.0",
            "grid_template_areas": null,
            "object_position": null,
            "object_fit": null,
            "grid_auto_columns": null,
            "margin": null,
            "display": null,
            "left": null
          }
        },
        "0437ba26308b42aa98cda41f770d0d5b": {
          "model_module": "@jupyter-widgets/controls",
          "model_name": "DescriptionStyleModel",
          "state": {
            "_view_name": "StyleView",
            "_model_name": "DescriptionStyleModel",
            "description_width": "",
            "_view_module": "@jupyter-widgets/base",
            "_model_module_version": "1.5.0",
            "_view_count": null,
            "_view_module_version": "1.2.0",
            "_model_module": "@jupyter-widgets/controls"
          }
        },
        "0865636818144faba19951a5056b0590": {
          "model_module": "@jupyter-widgets/base",
          "model_name": "LayoutModel",
          "state": {
            "_view_name": "LayoutView",
            "grid_template_rows": null,
            "right": null,
            "justify_content": null,
            "_view_module": "@jupyter-widgets/base",
            "overflow": null,
            "_model_module_version": "1.2.0",
            "_view_count": null,
            "flex_flow": null,
            "width": null,
            "min_width": null,
            "border": null,
            "align_items": null,
            "bottom": null,
            "_model_module": "@jupyter-widgets/base",
            "top": null,
            "grid_column": null,
            "overflow_y": null,
            "overflow_x": null,
            "grid_auto_flow": null,
            "grid_area": null,
            "grid_template_columns": null,
            "flex": null,
            "_model_name": "LayoutModel",
            "justify_items": null,
            "grid_row": null,
            "max_height": null,
            "align_content": null,
            "visibility": null,
            "align_self": null,
            "height": null,
            "min_height": null,
            "padding": null,
            "grid_auto_rows": null,
            "grid_gap": null,
            "max_width": null,
            "order": null,
            "_view_module_version": "1.2.0",
            "grid_template_areas": null,
            "object_position": null,
            "object_fit": null,
            "grid_auto_columns": null,
            "margin": null,
            "display": null,
            "left": null
          }
        },
        "5ddf086467154301bb3270789c91286e": {
          "model_module": "@jupyter-widgets/controls",
          "model_name": "HBoxModel",
          "state": {
            "_view_name": "HBoxView",
            "_dom_classes": [],
            "_model_name": "HBoxModel",
            "_view_module": "@jupyter-widgets/controls",
            "_model_module_version": "1.5.0",
            "_view_count": null,
            "_view_module_version": "1.5.0",
            "box_style": "",
            "layout": "IPY_MODEL_817ca2c91a8b46569402632efd143c27",
            "_model_module": "@jupyter-widgets/controls",
            "children": [
              "IPY_MODEL_795f45c6ddb24d099e356e5535bdfab6",
              "IPY_MODEL_e772d634dfcf4b1bb1021a9e2dfffbd5"
            ]
          }
        },
        "817ca2c91a8b46569402632efd143c27": {
          "model_module": "@jupyter-widgets/base",
          "model_name": "LayoutModel",
          "state": {
            "_view_name": "LayoutView",
            "grid_template_rows": null,
            "right": null,
            "justify_content": null,
            "_view_module": "@jupyter-widgets/base",
            "overflow": null,
            "_model_module_version": "1.2.0",
            "_view_count": null,
            "flex_flow": null,
            "width": null,
            "min_width": null,
            "border": null,
            "align_items": null,
            "bottom": null,
            "_model_module": "@jupyter-widgets/base",
            "top": null,
            "grid_column": null,
            "overflow_y": null,
            "overflow_x": null,
            "grid_auto_flow": null,
            "grid_area": null,
            "grid_template_columns": null,
            "flex": null,
            "_model_name": "LayoutModel",
            "justify_items": null,
            "grid_row": null,
            "max_height": null,
            "align_content": null,
            "visibility": null,
            "align_self": null,
            "height": null,
            "min_height": null,
            "padding": null,
            "grid_auto_rows": null,
            "grid_gap": null,
            "max_width": null,
            "order": null,
            "_view_module_version": "1.2.0",
            "grid_template_areas": null,
            "object_position": null,
            "object_fit": null,
            "grid_auto_columns": null,
            "margin": null,
            "display": null,
            "left": null
          }
        },
        "795f45c6ddb24d099e356e5535bdfab6": {
          "model_module": "@jupyter-widgets/controls",
          "model_name": "FloatProgressModel",
          "state": {
            "_view_name": "ProgressView",
            "style": "IPY_MODEL_5668d0cca0bb4cd089051000064c72a6",
            "_dom_classes": [],
            "description": "0/10(t): 100%",
            "_model_name": "FloatProgressModel",
            "bar_style": "success",
            "max": 1565,
            "_view_module": "@jupyter-widgets/controls",
            "_model_module_version": "1.5.0",
            "value": 1565,
            "_view_count": null,
            "_view_module_version": "1.5.0",
            "orientation": "horizontal",
            "min": 0,
            "description_tooltip": null,
            "_model_module": "@jupyter-widgets/controls",
            "layout": "IPY_MODEL_7e16f9fbf08d4278956c925f19545d1d"
          }
        },
        "e772d634dfcf4b1bb1021a9e2dfffbd5": {
          "model_module": "@jupyter-widgets/controls",
          "model_name": "HTMLModel",
          "state": {
            "_view_name": "HTMLView",
            "style": "IPY_MODEL_3e46c0f1fc3d49a6882ff6de6e283d3b",
            "_dom_classes": [],
            "description": "",
            "_model_name": "HTMLModel",
            "placeholder": "​",
            "_view_module": "@jupyter-widgets/controls",
            "_model_module_version": "1.5.0",
            "value": " 1565/1565 [01:11&lt;00:00, 22.04it/s, acc=0.3095, loss=2.3938, running_acc=0.4406, running_loss=1.8943]",
            "_view_count": null,
            "_view_module_version": "1.5.0",
            "description_tooltip": null,
            "_model_module": "@jupyter-widgets/controls",
            "layout": "IPY_MODEL_7260d8f7e88649ea9a1bdd7ff2d294e6"
          }
        },
        "5668d0cca0bb4cd089051000064c72a6": {
          "model_module": "@jupyter-widgets/controls",
          "model_name": "ProgressStyleModel",
          "state": {
            "_view_name": "StyleView",
            "_model_name": "ProgressStyleModel",
            "description_width": "initial",
            "_view_module": "@jupyter-widgets/base",
            "_model_module_version": "1.5.0",
            "_view_count": null,
            "_view_module_version": "1.2.0",
            "bar_color": null,
            "_model_module": "@jupyter-widgets/controls"
          }
        },
        "7e16f9fbf08d4278956c925f19545d1d": {
          "model_module": "@jupyter-widgets/base",
          "model_name": "LayoutModel",
          "state": {
            "_view_name": "LayoutView",
            "grid_template_rows": null,
            "right": null,
            "justify_content": null,
            "_view_module": "@jupyter-widgets/base",
            "overflow": null,
            "_model_module_version": "1.2.0",
            "_view_count": null,
            "flex_flow": null,
            "width": null,
            "min_width": null,
            "border": null,
            "align_items": null,
            "bottom": null,
            "_model_module": "@jupyter-widgets/base",
            "top": null,
            "grid_column": null,
            "overflow_y": null,
            "overflow_x": null,
            "grid_auto_flow": null,
            "grid_area": null,
            "grid_template_columns": null,
            "flex": null,
            "_model_name": "LayoutModel",
            "justify_items": null,
            "grid_row": null,
            "max_height": null,
            "align_content": null,
            "visibility": null,
            "align_self": null,
            "height": null,
            "min_height": null,
            "padding": null,
            "grid_auto_rows": null,
            "grid_gap": null,
            "max_width": null,
            "order": null,
            "_view_module_version": "1.2.0",
            "grid_template_areas": null,
            "object_position": null,
            "object_fit": null,
            "grid_auto_columns": null,
            "margin": null,
            "display": null,
            "left": null
          }
        },
        "3e46c0f1fc3d49a6882ff6de6e283d3b": {
          "model_module": "@jupyter-widgets/controls",
          "model_name": "DescriptionStyleModel",
          "state": {
            "_view_name": "StyleView",
            "_model_name": "DescriptionStyleModel",
            "description_width": "",
            "_view_module": "@jupyter-widgets/base",
            "_model_module_version": "1.5.0",
            "_view_count": null,
            "_view_module_version": "1.2.0",
            "_model_module": "@jupyter-widgets/controls"
          }
        },
        "7260d8f7e88649ea9a1bdd7ff2d294e6": {
          "model_module": "@jupyter-widgets/base",
          "model_name": "LayoutModel",
          "state": {
            "_view_name": "LayoutView",
            "grid_template_rows": null,
            "right": null,
            "justify_content": null,
            "_view_module": "@jupyter-widgets/base",
            "overflow": null,
            "_model_module_version": "1.2.0",
            "_view_count": null,
            "flex_flow": null,
            "width": null,
            "min_width": null,
            "border": null,
            "align_items": null,
            "bottom": null,
            "_model_module": "@jupyter-widgets/base",
            "top": null,
            "grid_column": null,
            "overflow_y": null,
            "overflow_x": null,
            "grid_auto_flow": null,
            "grid_area": null,
            "grid_template_columns": null,
            "flex": null,
            "_model_name": "LayoutModel",
            "justify_items": null,
            "grid_row": null,
            "max_height": null,
            "align_content": null,
            "visibility": null,
            "align_self": null,
            "height": null,
            "min_height": null,
            "padding": null,
            "grid_auto_rows": null,
            "grid_gap": null,
            "max_width": null,
            "order": null,
            "_view_module_version": "1.2.0",
            "grid_template_areas": null,
            "object_position": null,
            "object_fit": null,
            "grid_auto_columns": null,
            "margin": null,
            "display": null,
            "left": null
          }
        },
        "67c16d23d0c8423dbbce71a3862b6671": {
          "model_module": "@jupyter-widgets/controls",
          "model_name": "HBoxModel",
          "state": {
            "_view_name": "HBoxView",
            "_dom_classes": [],
            "_model_name": "HBoxModel",
            "_view_module": "@jupyter-widgets/controls",
            "_model_module_version": "1.5.0",
            "_view_count": null,
            "_view_module_version": "1.5.0",
            "box_style": "",
            "layout": "IPY_MODEL_2cd48c4d2dbc4ae8a3521d0a4056db96",
            "_model_module": "@jupyter-widgets/controls",
            "children": [
              "IPY_MODEL_bce7e5191070484db81744f0e10b2b09",
              "IPY_MODEL_30199c5dd84c4868b5d0515380866a0c"
            ]
          }
        },
        "2cd48c4d2dbc4ae8a3521d0a4056db96": {
          "model_module": "@jupyter-widgets/base",
          "model_name": "LayoutModel",
          "state": {
            "_view_name": "LayoutView",
            "grid_template_rows": null,
            "right": null,
            "justify_content": null,
            "_view_module": "@jupyter-widgets/base",
            "overflow": null,
            "_model_module_version": "1.2.0",
            "_view_count": null,
            "flex_flow": null,
            "width": null,
            "min_width": null,
            "border": null,
            "align_items": null,
            "bottom": null,
            "_model_module": "@jupyter-widgets/base",
            "top": null,
            "grid_column": null,
            "overflow_y": null,
            "overflow_x": null,
            "grid_auto_flow": null,
            "grid_area": null,
            "grid_template_columns": null,
            "flex": null,
            "_model_name": "LayoutModel",
            "justify_items": null,
            "grid_row": null,
            "max_height": null,
            "align_content": null,
            "visibility": null,
            "align_self": null,
            "height": null,
            "min_height": null,
            "padding": null,
            "grid_auto_rows": null,
            "grid_gap": null,
            "max_width": null,
            "order": null,
            "_view_module_version": "1.2.0",
            "grid_template_areas": null,
            "object_position": null,
            "object_fit": null,
            "grid_auto_columns": null,
            "margin": null,
            "display": null,
            "left": null
          }
        },
        "bce7e5191070484db81744f0e10b2b09": {
          "model_module": "@jupyter-widgets/controls",
          "model_name": "FloatProgressModel",
          "state": {
            "_view_name": "ProgressView",
            "style": "IPY_MODEL_5fc8ad1ac3b441c6838cda86f718c0fb",
            "_dom_classes": [],
            "description": "1/10(t): 100%",
            "_model_name": "FloatProgressModel",
            "bar_style": "success",
            "max": 1565,
            "_view_module": "@jupyter-widgets/controls",
            "_model_module_version": "1.5.0",
            "value": 1565,
            "_view_count": null,
            "_view_module_version": "1.5.0",
            "orientation": "horizontal",
            "min": 0,
            "description_tooltip": null,
            "_model_module": "@jupyter-widgets/controls",
            "layout": "IPY_MODEL_2177e11219bf4b77bcd0483808602b33"
          }
        },
        "30199c5dd84c4868b5d0515380866a0c": {
          "model_module": "@jupyter-widgets/controls",
          "model_name": "HTMLModel",
          "state": {
            "_view_name": "HTMLView",
            "style": "IPY_MODEL_fc7c37da9bca488e804a1a0ce3a0552d",
            "_dom_classes": [],
            "description": "",
            "_model_name": "HTMLModel",
            "placeholder": "​",
            "_view_module": "@jupyter-widgets/controls",
            "_model_module_version": "1.5.0",
            "value": " 1565/1565 [02:21&lt;00:00, 11.04it/s, acc=0.4783, loss=1.7428, running_acc=0.4977, running_loss=1.673]",
            "_view_count": null,
            "_view_module_version": "1.5.0",
            "description_tooltip": null,
            "_model_module": "@jupyter-widgets/controls",
            "layout": "IPY_MODEL_587f3445196d46e98d273ba063d04bf7"
          }
        },
        "5fc8ad1ac3b441c6838cda86f718c0fb": {
          "model_module": "@jupyter-widgets/controls",
          "model_name": "ProgressStyleModel",
          "state": {
            "_view_name": "StyleView",
            "_model_name": "ProgressStyleModel",
            "description_width": "initial",
            "_view_module": "@jupyter-widgets/base",
            "_model_module_version": "1.5.0",
            "_view_count": null,
            "_view_module_version": "1.2.0",
            "bar_color": null,
            "_model_module": "@jupyter-widgets/controls"
          }
        },
        "2177e11219bf4b77bcd0483808602b33": {
          "model_module": "@jupyter-widgets/base",
          "model_name": "LayoutModel",
          "state": {
            "_view_name": "LayoutView",
            "grid_template_rows": null,
            "right": null,
            "justify_content": null,
            "_view_module": "@jupyter-widgets/base",
            "overflow": null,
            "_model_module_version": "1.2.0",
            "_view_count": null,
            "flex_flow": null,
            "width": null,
            "min_width": null,
            "border": null,
            "align_items": null,
            "bottom": null,
            "_model_module": "@jupyter-widgets/base",
            "top": null,
            "grid_column": null,
            "overflow_y": null,
            "overflow_x": null,
            "grid_auto_flow": null,
            "grid_area": null,
            "grid_template_columns": null,
            "flex": null,
            "_model_name": "LayoutModel",
            "justify_items": null,
            "grid_row": null,
            "max_height": null,
            "align_content": null,
            "visibility": null,
            "align_self": null,
            "height": null,
            "min_height": null,
            "padding": null,
            "grid_auto_rows": null,
            "grid_gap": null,
            "max_width": null,
            "order": null,
            "_view_module_version": "1.2.0",
            "grid_template_areas": null,
            "object_position": null,
            "object_fit": null,
            "grid_auto_columns": null,
            "margin": null,
            "display": null,
            "left": null
          }
        },
        "fc7c37da9bca488e804a1a0ce3a0552d": {
          "model_module": "@jupyter-widgets/controls",
          "model_name": "DescriptionStyleModel",
          "state": {
            "_view_name": "StyleView",
            "_model_name": "DescriptionStyleModel",
            "description_width": "",
            "_view_module": "@jupyter-widgets/base",
            "_model_module_version": "1.5.0",
            "_view_count": null,
            "_view_module_version": "1.2.0",
            "_model_module": "@jupyter-widgets/controls"
          }
        },
        "587f3445196d46e98d273ba063d04bf7": {
          "model_module": "@jupyter-widgets/base",
          "model_name": "LayoutModel",
          "state": {
            "_view_name": "LayoutView",
            "grid_template_rows": null,
            "right": null,
            "justify_content": null,
            "_view_module": "@jupyter-widgets/base",
            "overflow": null,
            "_model_module_version": "1.2.0",
            "_view_count": null,
            "flex_flow": null,
            "width": null,
            "min_width": null,
            "border": null,
            "align_items": null,
            "bottom": null,
            "_model_module": "@jupyter-widgets/base",
            "top": null,
            "grid_column": null,
            "overflow_y": null,
            "overflow_x": null,
            "grid_auto_flow": null,
            "grid_area": null,
            "grid_template_columns": null,
            "flex": null,
            "_model_name": "LayoutModel",
            "justify_items": null,
            "grid_row": null,
            "max_height": null,
            "align_content": null,
            "visibility": null,
            "align_self": null,
            "height": null,
            "min_height": null,
            "padding": null,
            "grid_auto_rows": null,
            "grid_gap": null,
            "max_width": null,
            "order": null,
            "_view_module_version": "1.2.0",
            "grid_template_areas": null,
            "object_position": null,
            "object_fit": null,
            "grid_auto_columns": null,
            "margin": null,
            "display": null,
            "left": null
          }
        },
        "6cf915a7edfa4cbb9a7768beb6708189": {
          "model_module": "@jupyter-widgets/controls",
          "model_name": "HBoxModel",
          "state": {
            "_view_name": "HBoxView",
            "_dom_classes": [],
            "_model_name": "HBoxModel",
            "_view_module": "@jupyter-widgets/controls",
            "_model_module_version": "1.5.0",
            "_view_count": null,
            "_view_module_version": "1.5.0",
            "box_style": "",
            "layout": "IPY_MODEL_a63cfee617b04e7c886c88a51ee5d8b2",
            "_model_module": "@jupyter-widgets/controls",
            "children": [
              "IPY_MODEL_a5569a58ddb04f9ca9e220de62477e92",
              "IPY_MODEL_9c5f99a102844a14bb2d549a9726f11f"
            ]
          }
        },
        "a63cfee617b04e7c886c88a51ee5d8b2": {
          "model_module": "@jupyter-widgets/base",
          "model_name": "LayoutModel",
          "state": {
            "_view_name": "LayoutView",
            "grid_template_rows": null,
            "right": null,
            "justify_content": null,
            "_view_module": "@jupyter-widgets/base",
            "overflow": null,
            "_model_module_version": "1.2.0",
            "_view_count": null,
            "flex_flow": null,
            "width": null,
            "min_width": null,
            "border": null,
            "align_items": null,
            "bottom": null,
            "_model_module": "@jupyter-widgets/base",
            "top": null,
            "grid_column": null,
            "overflow_y": null,
            "overflow_x": null,
            "grid_auto_flow": null,
            "grid_area": null,
            "grid_template_columns": null,
            "flex": null,
            "_model_name": "LayoutModel",
            "justify_items": null,
            "grid_row": null,
            "max_height": null,
            "align_content": null,
            "visibility": null,
            "align_self": null,
            "height": null,
            "min_height": null,
            "padding": null,
            "grid_auto_rows": null,
            "grid_gap": null,
            "max_width": null,
            "order": null,
            "_view_module_version": "1.2.0",
            "grid_template_areas": null,
            "object_position": null,
            "object_fit": null,
            "grid_auto_columns": null,
            "margin": null,
            "display": null,
            "left": null
          }
        },
        "a5569a58ddb04f9ca9e220de62477e92": {
          "model_module": "@jupyter-widgets/controls",
          "model_name": "FloatProgressModel",
          "state": {
            "_view_name": "ProgressView",
            "style": "IPY_MODEL_6fab325b6f624efa84ae77132e9dacb8",
            "_dom_classes": [],
            "description": "2/10(t): 100%",
            "_model_name": "FloatProgressModel",
            "bar_style": "success",
            "max": 1565,
            "_view_module": "@jupyter-widgets/controls",
            "_model_module_version": "1.5.0",
            "value": 1565,
            "_view_count": null,
            "_view_module_version": "1.5.0",
            "orientation": "horizontal",
            "min": 0,
            "description_tooltip": null,
            "_model_module": "@jupyter-widgets/controls",
            "layout": "IPY_MODEL_fd197da55bbc4da1b8f3ab19335c8426"
          }
        },
        "9c5f99a102844a14bb2d549a9726f11f": {
          "model_module": "@jupyter-widgets/controls",
          "model_name": "HTMLModel",
          "state": {
            "_view_name": "HTMLView",
            "style": "IPY_MODEL_5ac232ce05254cfeb061e5878f52a3a1",
            "_dom_classes": [],
            "description": "",
            "_model_name": "HTMLModel",
            "placeholder": "​",
            "_view_module": "@jupyter-widgets/controls",
            "_model_module_version": "1.5.0",
            "value": " 1565/1565 [01:10&lt;00:00, 22.29it/s, acc=0.5174, loss=1.5979, running_acc=0.517, running_loss=1.612]",
            "_view_count": null,
            "_view_module_version": "1.5.0",
            "description_tooltip": null,
            "_model_module": "@jupyter-widgets/controls",
            "layout": "IPY_MODEL_cee7db08f80e4cb099a5e3c06aa6a857"
          }
        },
        "6fab325b6f624efa84ae77132e9dacb8": {
          "model_module": "@jupyter-widgets/controls",
          "model_name": "ProgressStyleModel",
          "state": {
            "_view_name": "StyleView",
            "_model_name": "ProgressStyleModel",
            "description_width": "initial",
            "_view_module": "@jupyter-widgets/base",
            "_model_module_version": "1.5.0",
            "_view_count": null,
            "_view_module_version": "1.2.0",
            "bar_color": null,
            "_model_module": "@jupyter-widgets/controls"
          }
        },
        "fd197da55bbc4da1b8f3ab19335c8426": {
          "model_module": "@jupyter-widgets/base",
          "model_name": "LayoutModel",
          "state": {
            "_view_name": "LayoutView",
            "grid_template_rows": null,
            "right": null,
            "justify_content": null,
            "_view_module": "@jupyter-widgets/base",
            "overflow": null,
            "_model_module_version": "1.2.0",
            "_view_count": null,
            "flex_flow": null,
            "width": null,
            "min_width": null,
            "border": null,
            "align_items": null,
            "bottom": null,
            "_model_module": "@jupyter-widgets/base",
            "top": null,
            "grid_column": null,
            "overflow_y": null,
            "overflow_x": null,
            "grid_auto_flow": null,
            "grid_area": null,
            "grid_template_columns": null,
            "flex": null,
            "_model_name": "LayoutModel",
            "justify_items": null,
            "grid_row": null,
            "max_height": null,
            "align_content": null,
            "visibility": null,
            "align_self": null,
            "height": null,
            "min_height": null,
            "padding": null,
            "grid_auto_rows": null,
            "grid_gap": null,
            "max_width": null,
            "order": null,
            "_view_module_version": "1.2.0",
            "grid_template_areas": null,
            "object_position": null,
            "object_fit": null,
            "grid_auto_columns": null,
            "margin": null,
            "display": null,
            "left": null
          }
        },
        "5ac232ce05254cfeb061e5878f52a3a1": {
          "model_module": "@jupyter-widgets/controls",
          "model_name": "DescriptionStyleModel",
          "state": {
            "_view_name": "StyleView",
            "_model_name": "DescriptionStyleModel",
            "description_width": "",
            "_view_module": "@jupyter-widgets/base",
            "_model_module_version": "1.5.0",
            "_view_count": null,
            "_view_module_version": "1.2.0",
            "_model_module": "@jupyter-widgets/controls"
          }
        },
        "cee7db08f80e4cb099a5e3c06aa6a857": {
          "model_module": "@jupyter-widgets/base",
          "model_name": "LayoutModel",
          "state": {
            "_view_name": "LayoutView",
            "grid_template_rows": null,
            "right": null,
            "justify_content": null,
            "_view_module": "@jupyter-widgets/base",
            "overflow": null,
            "_model_module_version": "1.2.0",
            "_view_count": null,
            "flex_flow": null,
            "width": null,
            "min_width": null,
            "border": null,
            "align_items": null,
            "bottom": null,
            "_model_module": "@jupyter-widgets/base",
            "top": null,
            "grid_column": null,
            "overflow_y": null,
            "overflow_x": null,
            "grid_auto_flow": null,
            "grid_area": null,
            "grid_template_columns": null,
            "flex": null,
            "_model_name": "LayoutModel",
            "justify_items": null,
            "grid_row": null,
            "max_height": null,
            "align_content": null,
            "visibility": null,
            "align_self": null,
            "height": null,
            "min_height": null,
            "padding": null,
            "grid_auto_rows": null,
            "grid_gap": null,
            "max_width": null,
            "order": null,
            "_view_module_version": "1.2.0",
            "grid_template_areas": null,
            "object_position": null,
            "object_fit": null,
            "grid_auto_columns": null,
            "margin": null,
            "display": null,
            "left": null
          }
        },
        "04e9a5a8836f4dd0989e4a549abfb1ad": {
          "model_module": "@jupyter-widgets/controls",
          "model_name": "HBoxModel",
          "state": {
            "_view_name": "HBoxView",
            "_dom_classes": [],
            "_model_name": "HBoxModel",
            "_view_module": "@jupyter-widgets/controls",
            "_model_module_version": "1.5.0",
            "_view_count": null,
            "_view_module_version": "1.5.0",
            "box_style": "",
            "layout": "IPY_MODEL_f303c751638747819deeb4d37c60ec1c",
            "_model_module": "@jupyter-widgets/controls",
            "children": [
              "IPY_MODEL_c1365ec9fc8549af91a29b15478e9567",
              "IPY_MODEL_330b88c8004d4f959b40d112abacf104"
            ]
          }
        },
        "f303c751638747819deeb4d37c60ec1c": {
          "model_module": "@jupyter-widgets/base",
          "model_name": "LayoutModel",
          "state": {
            "_view_name": "LayoutView",
            "grid_template_rows": null,
            "right": null,
            "justify_content": null,
            "_view_module": "@jupyter-widgets/base",
            "overflow": null,
            "_model_module_version": "1.2.0",
            "_view_count": null,
            "flex_flow": null,
            "width": null,
            "min_width": null,
            "border": null,
            "align_items": null,
            "bottom": null,
            "_model_module": "@jupyter-widgets/base",
            "top": null,
            "grid_column": null,
            "overflow_y": null,
            "overflow_x": null,
            "grid_auto_flow": null,
            "grid_area": null,
            "grid_template_columns": null,
            "flex": null,
            "_model_name": "LayoutModel",
            "justify_items": null,
            "grid_row": null,
            "max_height": null,
            "align_content": null,
            "visibility": null,
            "align_self": null,
            "height": null,
            "min_height": null,
            "padding": null,
            "grid_auto_rows": null,
            "grid_gap": null,
            "max_width": null,
            "order": null,
            "_view_module_version": "1.2.0",
            "grid_template_areas": null,
            "object_position": null,
            "object_fit": null,
            "grid_auto_columns": null,
            "margin": null,
            "display": null,
            "left": null
          }
        },
        "c1365ec9fc8549af91a29b15478e9567": {
          "model_module": "@jupyter-widgets/controls",
          "model_name": "FloatProgressModel",
          "state": {
            "_view_name": "ProgressView",
            "style": "IPY_MODEL_7bbe53de16d9422fab582366a7f99c58",
            "_dom_classes": [],
            "description": "3/10(t): 100%",
            "_model_name": "FloatProgressModel",
            "bar_style": "success",
            "max": 1565,
            "_view_module": "@jupyter-widgets/controls",
            "_model_module_version": "1.5.0",
            "value": 1565,
            "_view_count": null,
            "_view_module_version": "1.5.0",
            "orientation": "horizontal",
            "min": 0,
            "description_tooltip": null,
            "_model_module": "@jupyter-widgets/controls",
            "layout": "IPY_MODEL_2612c1d8a690481c832d91e5a29ccf75"
          }
        },
        "330b88c8004d4f959b40d112abacf104": {
          "model_module": "@jupyter-widgets/controls",
          "model_name": "HTMLModel",
          "state": {
            "_view_name": "HTMLView",
            "style": "IPY_MODEL_dcfc43854a5545b58cd71c42e9ac5b54",
            "_dom_classes": [],
            "description": "",
            "_model_name": "HTMLModel",
            "placeholder": "​",
            "_view_module": "@jupyter-widgets/controls",
            "_model_module_version": "1.5.0",
            "value": " 1565/1565 [01:09&lt;00:00, 22.46it/s, acc=0.5333, loss=1.5403, running_acc=0.53, running_loss=1.5493]",
            "_view_count": null,
            "_view_module_version": "1.5.0",
            "description_tooltip": null,
            "_model_module": "@jupyter-widgets/controls",
            "layout": "IPY_MODEL_9e7ea06a476c453abc6c52587f557e52"
          }
        },
        "7bbe53de16d9422fab582366a7f99c58": {
          "model_module": "@jupyter-widgets/controls",
          "model_name": "ProgressStyleModel",
          "state": {
            "_view_name": "StyleView",
            "_model_name": "ProgressStyleModel",
            "description_width": "initial",
            "_view_module": "@jupyter-widgets/base",
            "_model_module_version": "1.5.0",
            "_view_count": null,
            "_view_module_version": "1.2.0",
            "bar_color": null,
            "_model_module": "@jupyter-widgets/controls"
          }
        },
        "2612c1d8a690481c832d91e5a29ccf75": {
          "model_module": "@jupyter-widgets/base",
          "model_name": "LayoutModel",
          "state": {
            "_view_name": "LayoutView",
            "grid_template_rows": null,
            "right": null,
            "justify_content": null,
            "_view_module": "@jupyter-widgets/base",
            "overflow": null,
            "_model_module_version": "1.2.0",
            "_view_count": null,
            "flex_flow": null,
            "width": null,
            "min_width": null,
            "border": null,
            "align_items": null,
            "bottom": null,
            "_model_module": "@jupyter-widgets/base",
            "top": null,
            "grid_column": null,
            "overflow_y": null,
            "overflow_x": null,
            "grid_auto_flow": null,
            "grid_area": null,
            "grid_template_columns": null,
            "flex": null,
            "_model_name": "LayoutModel",
            "justify_items": null,
            "grid_row": null,
            "max_height": null,
            "align_content": null,
            "visibility": null,
            "align_self": null,
            "height": null,
            "min_height": null,
            "padding": null,
            "grid_auto_rows": null,
            "grid_gap": null,
            "max_width": null,
            "order": null,
            "_view_module_version": "1.2.0",
            "grid_template_areas": null,
            "object_position": null,
            "object_fit": null,
            "grid_auto_columns": null,
            "margin": null,
            "display": null,
            "left": null
          }
        },
        "dcfc43854a5545b58cd71c42e9ac5b54": {
          "model_module": "@jupyter-widgets/controls",
          "model_name": "DescriptionStyleModel",
          "state": {
            "_view_name": "StyleView",
            "_model_name": "DescriptionStyleModel",
            "description_width": "",
            "_view_module": "@jupyter-widgets/base",
            "_model_module_version": "1.5.0",
            "_view_count": null,
            "_view_module_version": "1.2.0",
            "_model_module": "@jupyter-widgets/controls"
          }
        },
        "9e7ea06a476c453abc6c52587f557e52": {
          "model_module": "@jupyter-widgets/base",
          "model_name": "LayoutModel",
          "state": {
            "_view_name": "LayoutView",
            "grid_template_rows": null,
            "right": null,
            "justify_content": null,
            "_view_module": "@jupyter-widgets/base",
            "overflow": null,
            "_model_module_version": "1.2.0",
            "_view_count": null,
            "flex_flow": null,
            "width": null,
            "min_width": null,
            "border": null,
            "align_items": null,
            "bottom": null,
            "_model_module": "@jupyter-widgets/base",
            "top": null,
            "grid_column": null,
            "overflow_y": null,
            "overflow_x": null,
            "grid_auto_flow": null,
            "grid_area": null,
            "grid_template_columns": null,
            "flex": null,
            "_model_name": "LayoutModel",
            "justify_items": null,
            "grid_row": null,
            "max_height": null,
            "align_content": null,
            "visibility": null,
            "align_self": null,
            "height": null,
            "min_height": null,
            "padding": null,
            "grid_auto_rows": null,
            "grid_gap": null,
            "max_width": null,
            "order": null,
            "_view_module_version": "1.2.0",
            "grid_template_areas": null,
            "object_position": null,
            "object_fit": null,
            "grid_auto_columns": null,
            "margin": null,
            "display": null,
            "left": null
          }
        },
        "f34d0662b13b41dd84b69ee73223feba": {
          "model_module": "@jupyter-widgets/controls",
          "model_name": "HBoxModel",
          "state": {
            "_view_name": "HBoxView",
            "_dom_classes": [],
            "_model_name": "HBoxModel",
            "_view_module": "@jupyter-widgets/controls",
            "_model_module_version": "1.5.0",
            "_view_count": null,
            "_view_module_version": "1.5.0",
            "box_style": "",
            "layout": "IPY_MODEL_475de15d90f64e3b9d36df389041fffd",
            "_model_module": "@jupyter-widgets/controls",
            "children": [
              "IPY_MODEL_85fb405f5b2a4ec3a0729c2e846f41b1",
              "IPY_MODEL_06ccfccb205b4ed79a8fad7186bd51c8"
            ]
          }
        },
        "475de15d90f64e3b9d36df389041fffd": {
          "model_module": "@jupyter-widgets/base",
          "model_name": "LayoutModel",
          "state": {
            "_view_name": "LayoutView",
            "grid_template_rows": null,
            "right": null,
            "justify_content": null,
            "_view_module": "@jupyter-widgets/base",
            "overflow": null,
            "_model_module_version": "1.2.0",
            "_view_count": null,
            "flex_flow": null,
            "width": null,
            "min_width": null,
            "border": null,
            "align_items": null,
            "bottom": null,
            "_model_module": "@jupyter-widgets/base",
            "top": null,
            "grid_column": null,
            "overflow_y": null,
            "overflow_x": null,
            "grid_auto_flow": null,
            "grid_area": null,
            "grid_template_columns": null,
            "flex": null,
            "_model_name": "LayoutModel",
            "justify_items": null,
            "grid_row": null,
            "max_height": null,
            "align_content": null,
            "visibility": null,
            "align_self": null,
            "height": null,
            "min_height": null,
            "padding": null,
            "grid_auto_rows": null,
            "grid_gap": null,
            "max_width": null,
            "order": null,
            "_view_module_version": "1.2.0",
            "grid_template_areas": null,
            "object_position": null,
            "object_fit": null,
            "grid_auto_columns": null,
            "margin": null,
            "display": null,
            "left": null
          }
        },
        "85fb405f5b2a4ec3a0729c2e846f41b1": {
          "model_module": "@jupyter-widgets/controls",
          "model_name": "FloatProgressModel",
          "state": {
            "_view_name": "ProgressView",
            "style": "IPY_MODEL_c985a33298f64d25ab35da5ae182cf80",
            "_dom_classes": [],
            "description": "4/10(t): 100%",
            "_model_name": "FloatProgressModel",
            "bar_style": "success",
            "max": 1565,
            "_view_module": "@jupyter-widgets/controls",
            "_model_module_version": "1.5.0",
            "value": 1565,
            "_view_count": null,
            "_view_module_version": "1.5.0",
            "orientation": "horizontal",
            "min": 0,
            "description_tooltip": null,
            "_model_module": "@jupyter-widgets/controls",
            "layout": "IPY_MODEL_15592b10ce39493dbc54104e298e425b"
          }
        },
        "06ccfccb205b4ed79a8fad7186bd51c8": {
          "model_module": "@jupyter-widgets/controls",
          "model_name": "HTMLModel",
          "state": {
            "_view_name": "HTMLView",
            "style": "IPY_MODEL_971d9a176d8e423abb0104a63245ee66",
            "_dom_classes": [],
            "description": "",
            "_model_name": "HTMLModel",
            "placeholder": "​",
            "_view_module": "@jupyter-widgets/controls",
            "_model_module_version": "1.5.0",
            "value": " 1565/1565 [02:25&lt;00:00, 10.73it/s, acc=0.5429, loss=1.5081, running_acc=0.548, running_loss=1.4854]",
            "_view_count": null,
            "_view_module_version": "1.5.0",
            "description_tooltip": null,
            "_model_module": "@jupyter-widgets/controls",
            "layout": "IPY_MODEL_048a8b8a14794726befa2c6e807c904a"
          }
        },
        "c985a33298f64d25ab35da5ae182cf80": {
          "model_module": "@jupyter-widgets/controls",
          "model_name": "ProgressStyleModel",
          "state": {
            "_view_name": "StyleView",
            "_model_name": "ProgressStyleModel",
            "description_width": "initial",
            "_view_module": "@jupyter-widgets/base",
            "_model_module_version": "1.5.0",
            "_view_count": null,
            "_view_module_version": "1.2.0",
            "bar_color": null,
            "_model_module": "@jupyter-widgets/controls"
          }
        },
        "15592b10ce39493dbc54104e298e425b": {
          "model_module": "@jupyter-widgets/base",
          "model_name": "LayoutModel",
          "state": {
            "_view_name": "LayoutView",
            "grid_template_rows": null,
            "right": null,
            "justify_content": null,
            "_view_module": "@jupyter-widgets/base",
            "overflow": null,
            "_model_module_version": "1.2.0",
            "_view_count": null,
            "flex_flow": null,
            "width": null,
            "min_width": null,
            "border": null,
            "align_items": null,
            "bottom": null,
            "_model_module": "@jupyter-widgets/base",
            "top": null,
            "grid_column": null,
            "overflow_y": null,
            "overflow_x": null,
            "grid_auto_flow": null,
            "grid_area": null,
            "grid_template_columns": null,
            "flex": null,
            "_model_name": "LayoutModel",
            "justify_items": null,
            "grid_row": null,
            "max_height": null,
            "align_content": null,
            "visibility": null,
            "align_self": null,
            "height": null,
            "min_height": null,
            "padding": null,
            "grid_auto_rows": null,
            "grid_gap": null,
            "max_width": null,
            "order": null,
            "_view_module_version": "1.2.0",
            "grid_template_areas": null,
            "object_position": null,
            "object_fit": null,
            "grid_auto_columns": null,
            "margin": null,
            "display": null,
            "left": null
          }
        },
        "971d9a176d8e423abb0104a63245ee66": {
          "model_module": "@jupyter-widgets/controls",
          "model_name": "DescriptionStyleModel",
          "state": {
            "_view_name": "StyleView",
            "_model_name": "DescriptionStyleModel",
            "description_width": "",
            "_view_module": "@jupyter-widgets/base",
            "_model_module_version": "1.5.0",
            "_view_count": null,
            "_view_module_version": "1.2.0",
            "_model_module": "@jupyter-widgets/controls"
          }
        },
        "048a8b8a14794726befa2c6e807c904a": {
          "model_module": "@jupyter-widgets/base",
          "model_name": "LayoutModel",
          "state": {
            "_view_name": "LayoutView",
            "grid_template_rows": null,
            "right": null,
            "justify_content": null,
            "_view_module": "@jupyter-widgets/base",
            "overflow": null,
            "_model_module_version": "1.2.0",
            "_view_count": null,
            "flex_flow": null,
            "width": null,
            "min_width": null,
            "border": null,
            "align_items": null,
            "bottom": null,
            "_model_module": "@jupyter-widgets/base",
            "top": null,
            "grid_column": null,
            "overflow_y": null,
            "overflow_x": null,
            "grid_auto_flow": null,
            "grid_area": null,
            "grid_template_columns": null,
            "flex": null,
            "_model_name": "LayoutModel",
            "justify_items": null,
            "grid_row": null,
            "max_height": null,
            "align_content": null,
            "visibility": null,
            "align_self": null,
            "height": null,
            "min_height": null,
            "padding": null,
            "grid_auto_rows": null,
            "grid_gap": null,
            "max_width": null,
            "order": null,
            "_view_module_version": "1.2.0",
            "grid_template_areas": null,
            "object_position": null,
            "object_fit": null,
            "grid_auto_columns": null,
            "margin": null,
            "display": null,
            "left": null
          }
        },
        "6b44053642574fdeb95e60851ad9891d": {
          "model_module": "@jupyter-widgets/controls",
          "model_name": "HBoxModel",
          "state": {
            "_view_name": "HBoxView",
            "_dom_classes": [],
            "_model_name": "HBoxModel",
            "_view_module": "@jupyter-widgets/controls",
            "_model_module_version": "1.5.0",
            "_view_count": null,
            "_view_module_version": "1.5.0",
            "box_style": "",
            "layout": "IPY_MODEL_cc7cfcaab93b4dea88926e1134499a75",
            "_model_module": "@jupyter-widgets/controls",
            "children": [
              "IPY_MODEL_38dc1082490143dea61c98b4accc6020",
              "IPY_MODEL_e94bf5e70db040a981cd637ae65f8c75"
            ]
          }
        },
        "cc7cfcaab93b4dea88926e1134499a75": {
          "model_module": "@jupyter-widgets/base",
          "model_name": "LayoutModel",
          "state": {
            "_view_name": "LayoutView",
            "grid_template_rows": null,
            "right": null,
            "justify_content": null,
            "_view_module": "@jupyter-widgets/base",
            "overflow": null,
            "_model_module_version": "1.2.0",
            "_view_count": null,
            "flex_flow": null,
            "width": null,
            "min_width": null,
            "border": null,
            "align_items": null,
            "bottom": null,
            "_model_module": "@jupyter-widgets/base",
            "top": null,
            "grid_column": null,
            "overflow_y": null,
            "overflow_x": null,
            "grid_auto_flow": null,
            "grid_area": null,
            "grid_template_columns": null,
            "flex": null,
            "_model_name": "LayoutModel",
            "justify_items": null,
            "grid_row": null,
            "max_height": null,
            "align_content": null,
            "visibility": null,
            "align_self": null,
            "height": null,
            "min_height": null,
            "padding": null,
            "grid_auto_rows": null,
            "grid_gap": null,
            "max_width": null,
            "order": null,
            "_view_module_version": "1.2.0",
            "grid_template_areas": null,
            "object_position": null,
            "object_fit": null,
            "grid_auto_columns": null,
            "margin": null,
            "display": null,
            "left": null
          }
        },
        "38dc1082490143dea61c98b4accc6020": {
          "model_module": "@jupyter-widgets/controls",
          "model_name": "FloatProgressModel",
          "state": {
            "_view_name": "ProgressView",
            "style": "IPY_MODEL_8440ae20665442b4aa74c1310a196cdf",
            "_dom_classes": [],
            "description": "5/10(t): 100%",
            "_model_name": "FloatProgressModel",
            "bar_style": "success",
            "max": 1565,
            "_view_module": "@jupyter-widgets/controls",
            "_model_module_version": "1.5.0",
            "value": 1565,
            "_view_count": null,
            "_view_module_version": "1.5.0",
            "orientation": "horizontal",
            "min": 0,
            "description_tooltip": null,
            "_model_module": "@jupyter-widgets/controls",
            "layout": "IPY_MODEL_4cd6cfc4de824de796fbc91cece32db1"
          }
        },
        "e94bf5e70db040a981cd637ae65f8c75": {
          "model_module": "@jupyter-widgets/controls",
          "model_name": "HTMLModel",
          "state": {
            "_view_name": "HTMLView",
            "style": "IPY_MODEL_c678d5eaec6e43dba240096e41af7e65",
            "_dom_classes": [],
            "description": "",
            "_model_name": "HTMLModel",
            "placeholder": "​",
            "_view_module": "@jupyter-widgets/controls",
            "_model_module_version": "1.5.0",
            "value": " 1565/1565 [01:13&lt;00:00, 21.39it/s, acc=0.5485, loss=1.4871, running_acc=0.5464, running_loss=1.5205]",
            "_view_count": null,
            "_view_module_version": "1.5.0",
            "description_tooltip": null,
            "_model_module": "@jupyter-widgets/controls",
            "layout": "IPY_MODEL_9dcf8ddfd07c4772b66dae37300fc169"
          }
        },
        "8440ae20665442b4aa74c1310a196cdf": {
          "model_module": "@jupyter-widgets/controls",
          "model_name": "ProgressStyleModel",
          "state": {
            "_view_name": "StyleView",
            "_model_name": "ProgressStyleModel",
            "description_width": "initial",
            "_view_module": "@jupyter-widgets/base",
            "_model_module_version": "1.5.0",
            "_view_count": null,
            "_view_module_version": "1.2.0",
            "bar_color": null,
            "_model_module": "@jupyter-widgets/controls"
          }
        },
        "4cd6cfc4de824de796fbc91cece32db1": {
          "model_module": "@jupyter-widgets/base",
          "model_name": "LayoutModel",
          "state": {
            "_view_name": "LayoutView",
            "grid_template_rows": null,
            "right": null,
            "justify_content": null,
            "_view_module": "@jupyter-widgets/base",
            "overflow": null,
            "_model_module_version": "1.2.0",
            "_view_count": null,
            "flex_flow": null,
            "width": null,
            "min_width": null,
            "border": null,
            "align_items": null,
            "bottom": null,
            "_model_module": "@jupyter-widgets/base",
            "top": null,
            "grid_column": null,
            "overflow_y": null,
            "overflow_x": null,
            "grid_auto_flow": null,
            "grid_area": null,
            "grid_template_columns": null,
            "flex": null,
            "_model_name": "LayoutModel",
            "justify_items": null,
            "grid_row": null,
            "max_height": null,
            "align_content": null,
            "visibility": null,
            "align_self": null,
            "height": null,
            "min_height": null,
            "padding": null,
            "grid_auto_rows": null,
            "grid_gap": null,
            "max_width": null,
            "order": null,
            "_view_module_version": "1.2.0",
            "grid_template_areas": null,
            "object_position": null,
            "object_fit": null,
            "grid_auto_columns": null,
            "margin": null,
            "display": null,
            "left": null
          }
        },
        "c678d5eaec6e43dba240096e41af7e65": {
          "model_module": "@jupyter-widgets/controls",
          "model_name": "DescriptionStyleModel",
          "state": {
            "_view_name": "StyleView",
            "_model_name": "DescriptionStyleModel",
            "description_width": "",
            "_view_module": "@jupyter-widgets/base",
            "_model_module_version": "1.5.0",
            "_view_count": null,
            "_view_module_version": "1.2.0",
            "_model_module": "@jupyter-widgets/controls"
          }
        },
        "9dcf8ddfd07c4772b66dae37300fc169": {
          "model_module": "@jupyter-widgets/base",
          "model_name": "LayoutModel",
          "state": {
            "_view_name": "LayoutView",
            "grid_template_rows": null,
            "right": null,
            "justify_content": null,
            "_view_module": "@jupyter-widgets/base",
            "overflow": null,
            "_model_module_version": "1.2.0",
            "_view_count": null,
            "flex_flow": null,
            "width": null,
            "min_width": null,
            "border": null,
            "align_items": null,
            "bottom": null,
            "_model_module": "@jupyter-widgets/base",
            "top": null,
            "grid_column": null,
            "overflow_y": null,
            "overflow_x": null,
            "grid_auto_flow": null,
            "grid_area": null,
            "grid_template_columns": null,
            "flex": null,
            "_model_name": "LayoutModel",
            "justify_items": null,
            "grid_row": null,
            "max_height": null,
            "align_content": null,
            "visibility": null,
            "align_self": null,
            "height": null,
            "min_height": null,
            "padding": null,
            "grid_auto_rows": null,
            "grid_gap": null,
            "max_width": null,
            "order": null,
            "_view_module_version": "1.2.0",
            "grid_template_areas": null,
            "object_position": null,
            "object_fit": null,
            "grid_auto_columns": null,
            "margin": null,
            "display": null,
            "left": null
          }
        },
        "b7cfdaa477f14c21971a354a25044c8f": {
          "model_module": "@jupyter-widgets/controls",
          "model_name": "HBoxModel",
          "state": {
            "_view_name": "HBoxView",
            "_dom_classes": [],
            "_model_name": "HBoxModel",
            "_view_module": "@jupyter-widgets/controls",
            "_model_module_version": "1.5.0",
            "_view_count": null,
            "_view_module_version": "1.5.0",
            "box_style": "",
            "layout": "IPY_MODEL_a1255ec3491c4b5680a63e104471408e",
            "_model_module": "@jupyter-widgets/controls",
            "children": [
              "IPY_MODEL_d3944581d80d4ddb8a60e42792d2be1e",
              "IPY_MODEL_4d899cb3d5f14c7e80b9413208e159fc"
            ]
          }
        },
        "a1255ec3491c4b5680a63e104471408e": {
          "model_module": "@jupyter-widgets/base",
          "model_name": "LayoutModel",
          "state": {
            "_view_name": "LayoutView",
            "grid_template_rows": null,
            "right": null,
            "justify_content": null,
            "_view_module": "@jupyter-widgets/base",
            "overflow": null,
            "_model_module_version": "1.2.0",
            "_view_count": null,
            "flex_flow": null,
            "width": null,
            "min_width": null,
            "border": null,
            "align_items": null,
            "bottom": null,
            "_model_module": "@jupyter-widgets/base",
            "top": null,
            "grid_column": null,
            "overflow_y": null,
            "overflow_x": null,
            "grid_auto_flow": null,
            "grid_area": null,
            "grid_template_columns": null,
            "flex": null,
            "_model_name": "LayoutModel",
            "justify_items": null,
            "grid_row": null,
            "max_height": null,
            "align_content": null,
            "visibility": null,
            "align_self": null,
            "height": null,
            "min_height": null,
            "padding": null,
            "grid_auto_rows": null,
            "grid_gap": null,
            "max_width": null,
            "order": null,
            "_view_module_version": "1.2.0",
            "grid_template_areas": null,
            "object_position": null,
            "object_fit": null,
            "grid_auto_columns": null,
            "margin": null,
            "display": null,
            "left": null
          }
        },
        "d3944581d80d4ddb8a60e42792d2be1e": {
          "model_module": "@jupyter-widgets/controls",
          "model_name": "FloatProgressModel",
          "state": {
            "_view_name": "ProgressView",
            "style": "IPY_MODEL_25739d7d3c2245c4ad7a34241daa5264",
            "_dom_classes": [],
            "description": "6/10(t): 100%",
            "_model_name": "FloatProgressModel",
            "bar_style": "success",
            "max": 1565,
            "_view_module": "@jupyter-widgets/controls",
            "_model_module_version": "1.5.0",
            "value": 1565,
            "_view_count": null,
            "_view_module_version": "1.5.0",
            "orientation": "horizontal",
            "min": 0,
            "description_tooltip": null,
            "_model_module": "@jupyter-widgets/controls",
            "layout": "IPY_MODEL_a353fe481d6f45b1ab98967915a10127"
          }
        },
        "4d899cb3d5f14c7e80b9413208e159fc": {
          "model_module": "@jupyter-widgets/controls",
          "model_name": "HTMLModel",
          "state": {
            "_view_name": "HTMLView",
            "style": "IPY_MODEL_604b1707bf574f0f80cffe89a79b73f3",
            "_dom_classes": [],
            "description": "",
            "_model_name": "HTMLModel",
            "placeholder": "​",
            "_view_module": "@jupyter-widgets/controls",
            "_model_module_version": "1.5.0",
            "value": " 1565/1565 [01:10&lt;00:00, 22.24it/s, acc=0.5517, loss=1.4732, running_acc=0.5405, running_loss=1.5111]",
            "_view_count": null,
            "_view_module_version": "1.5.0",
            "description_tooltip": null,
            "_model_module": "@jupyter-widgets/controls",
            "layout": "IPY_MODEL_71bb7b9cb6fc4818bb93afad1004c569"
          }
        },
        "25739d7d3c2245c4ad7a34241daa5264": {
          "model_module": "@jupyter-widgets/controls",
          "model_name": "ProgressStyleModel",
          "state": {
            "_view_name": "StyleView",
            "_model_name": "ProgressStyleModel",
            "description_width": "initial",
            "_view_module": "@jupyter-widgets/base",
            "_model_module_version": "1.5.0",
            "_view_count": null,
            "_view_module_version": "1.2.0",
            "bar_color": null,
            "_model_module": "@jupyter-widgets/controls"
          }
        },
        "a353fe481d6f45b1ab98967915a10127": {
          "model_module": "@jupyter-widgets/base",
          "model_name": "LayoutModel",
          "state": {
            "_view_name": "LayoutView",
            "grid_template_rows": null,
            "right": null,
            "justify_content": null,
            "_view_module": "@jupyter-widgets/base",
            "overflow": null,
            "_model_module_version": "1.2.0",
            "_view_count": null,
            "flex_flow": null,
            "width": null,
            "min_width": null,
            "border": null,
            "align_items": null,
            "bottom": null,
            "_model_module": "@jupyter-widgets/base",
            "top": null,
            "grid_column": null,
            "overflow_y": null,
            "overflow_x": null,
            "grid_auto_flow": null,
            "grid_area": null,
            "grid_template_columns": null,
            "flex": null,
            "_model_name": "LayoutModel",
            "justify_items": null,
            "grid_row": null,
            "max_height": null,
            "align_content": null,
            "visibility": null,
            "align_self": null,
            "height": null,
            "min_height": null,
            "padding": null,
            "grid_auto_rows": null,
            "grid_gap": null,
            "max_width": null,
            "order": null,
            "_view_module_version": "1.2.0",
            "grid_template_areas": null,
            "object_position": null,
            "object_fit": null,
            "grid_auto_columns": null,
            "margin": null,
            "display": null,
            "left": null
          }
        },
        "604b1707bf574f0f80cffe89a79b73f3": {
          "model_module": "@jupyter-widgets/controls",
          "model_name": "DescriptionStyleModel",
          "state": {
            "_view_name": "StyleView",
            "_model_name": "DescriptionStyleModel",
            "description_width": "",
            "_view_module": "@jupyter-widgets/base",
            "_model_module_version": "1.5.0",
            "_view_count": null,
            "_view_module_version": "1.2.0",
            "_model_module": "@jupyter-widgets/controls"
          }
        },
        "71bb7b9cb6fc4818bb93afad1004c569": {
          "model_module": "@jupyter-widgets/base",
          "model_name": "LayoutModel",
          "state": {
            "_view_name": "LayoutView",
            "grid_template_rows": null,
            "right": null,
            "justify_content": null,
            "_view_module": "@jupyter-widgets/base",
            "overflow": null,
            "_model_module_version": "1.2.0",
            "_view_count": null,
            "flex_flow": null,
            "width": null,
            "min_width": null,
            "border": null,
            "align_items": null,
            "bottom": null,
            "_model_module": "@jupyter-widgets/base",
            "top": null,
            "grid_column": null,
            "overflow_y": null,
            "overflow_x": null,
            "grid_auto_flow": null,
            "grid_area": null,
            "grid_template_columns": null,
            "flex": null,
            "_model_name": "LayoutModel",
            "justify_items": null,
            "grid_row": null,
            "max_height": null,
            "align_content": null,
            "visibility": null,
            "align_self": null,
            "height": null,
            "min_height": null,
            "padding": null,
            "grid_auto_rows": null,
            "grid_gap": null,
            "max_width": null,
            "order": null,
            "_view_module_version": "1.2.0",
            "grid_template_areas": null,
            "object_position": null,
            "object_fit": null,
            "grid_auto_columns": null,
            "margin": null,
            "display": null,
            "left": null
          }
        },
        "e42fe82870814faa8cb0cb1c9194f335": {
          "model_module": "@jupyter-widgets/controls",
          "model_name": "HBoxModel",
          "state": {
            "_view_name": "HBoxView",
            "_dom_classes": [],
            "_model_name": "HBoxModel",
            "_view_module": "@jupyter-widgets/controls",
            "_model_module_version": "1.5.0",
            "_view_count": null,
            "_view_module_version": "1.5.0",
            "box_style": "",
            "layout": "IPY_MODEL_ce33d6502d99425ebb6a5ed67b9a2a41",
            "_model_module": "@jupyter-widgets/controls",
            "children": [
              "IPY_MODEL_b9ebfe8839de47ac88ef61d31792f569",
              "IPY_MODEL_fce9990971164795a2d4f6a23563b59a"
            ]
          }
        },
        "ce33d6502d99425ebb6a5ed67b9a2a41": {
          "model_module": "@jupyter-widgets/base",
          "model_name": "LayoutModel",
          "state": {
            "_view_name": "LayoutView",
            "grid_template_rows": null,
            "right": null,
            "justify_content": null,
            "_view_module": "@jupyter-widgets/base",
            "overflow": null,
            "_model_module_version": "1.2.0",
            "_view_count": null,
            "flex_flow": null,
            "width": null,
            "min_width": null,
            "border": null,
            "align_items": null,
            "bottom": null,
            "_model_module": "@jupyter-widgets/base",
            "top": null,
            "grid_column": null,
            "overflow_y": null,
            "overflow_x": null,
            "grid_auto_flow": null,
            "grid_area": null,
            "grid_template_columns": null,
            "flex": null,
            "_model_name": "LayoutModel",
            "justify_items": null,
            "grid_row": null,
            "max_height": null,
            "align_content": null,
            "visibility": null,
            "align_self": null,
            "height": null,
            "min_height": null,
            "padding": null,
            "grid_auto_rows": null,
            "grid_gap": null,
            "max_width": null,
            "order": null,
            "_view_module_version": "1.2.0",
            "grid_template_areas": null,
            "object_position": null,
            "object_fit": null,
            "grid_auto_columns": null,
            "margin": null,
            "display": null,
            "left": null
          }
        },
        "b9ebfe8839de47ac88ef61d31792f569": {
          "model_module": "@jupyter-widgets/controls",
          "model_name": "FloatProgressModel",
          "state": {
            "_view_name": "ProgressView",
            "style": "IPY_MODEL_ea02e56d58f94944aae6499142591965",
            "_dom_classes": [],
            "description": "7/10(t): 100%",
            "_model_name": "FloatProgressModel",
            "bar_style": "success",
            "max": 1565,
            "_view_module": "@jupyter-widgets/controls",
            "_model_module_version": "1.5.0",
            "value": 1565,
            "_view_count": null,
            "_view_module_version": "1.5.0",
            "orientation": "horizontal",
            "min": 0,
            "description_tooltip": null,
            "_model_module": "@jupyter-widgets/controls",
            "layout": "IPY_MODEL_3e22a508c44846baacd679cb52965b97"
          }
        },
        "fce9990971164795a2d4f6a23563b59a": {
          "model_module": "@jupyter-widgets/controls",
          "model_name": "HTMLModel",
          "state": {
            "_view_name": "HTMLView",
            "style": "IPY_MODEL_4f62e01c27304ded9b5303c8d41c2210",
            "_dom_classes": [],
            "description": "",
            "_model_name": "HTMLModel",
            "placeholder": "​",
            "_view_module": "@jupyter-widgets/controls",
            "_model_module_version": "1.5.0",
            "value": " 1565/1565 [02:24&lt;00:00, 10.84it/s, acc=0.5547, loss=1.4632, running_acc=0.5519, running_loss=1.4783]",
            "_view_count": null,
            "_view_module_version": "1.5.0",
            "description_tooltip": null,
            "_model_module": "@jupyter-widgets/controls",
            "layout": "IPY_MODEL_406370c1df5945f0ab0eaf49d95119af"
          }
        },
        "ea02e56d58f94944aae6499142591965": {
          "model_module": "@jupyter-widgets/controls",
          "model_name": "ProgressStyleModel",
          "state": {
            "_view_name": "StyleView",
            "_model_name": "ProgressStyleModel",
            "description_width": "initial",
            "_view_module": "@jupyter-widgets/base",
            "_model_module_version": "1.5.0",
            "_view_count": null,
            "_view_module_version": "1.2.0",
            "bar_color": null,
            "_model_module": "@jupyter-widgets/controls"
          }
        },
        "3e22a508c44846baacd679cb52965b97": {
          "model_module": "@jupyter-widgets/base",
          "model_name": "LayoutModel",
          "state": {
            "_view_name": "LayoutView",
            "grid_template_rows": null,
            "right": null,
            "justify_content": null,
            "_view_module": "@jupyter-widgets/base",
            "overflow": null,
            "_model_module_version": "1.2.0",
            "_view_count": null,
            "flex_flow": null,
            "width": null,
            "min_width": null,
            "border": null,
            "align_items": null,
            "bottom": null,
            "_model_module": "@jupyter-widgets/base",
            "top": null,
            "grid_column": null,
            "overflow_y": null,
            "overflow_x": null,
            "grid_auto_flow": null,
            "grid_area": null,
            "grid_template_columns": null,
            "flex": null,
            "_model_name": "LayoutModel",
            "justify_items": null,
            "grid_row": null,
            "max_height": null,
            "align_content": null,
            "visibility": null,
            "align_self": null,
            "height": null,
            "min_height": null,
            "padding": null,
            "grid_auto_rows": null,
            "grid_gap": null,
            "max_width": null,
            "order": null,
            "_view_module_version": "1.2.0",
            "grid_template_areas": null,
            "object_position": null,
            "object_fit": null,
            "grid_auto_columns": null,
            "margin": null,
            "display": null,
            "left": null
          }
        },
        "4f62e01c27304ded9b5303c8d41c2210": {
          "model_module": "@jupyter-widgets/controls",
          "model_name": "DescriptionStyleModel",
          "state": {
            "_view_name": "StyleView",
            "_model_name": "DescriptionStyleModel",
            "description_width": "",
            "_view_module": "@jupyter-widgets/base",
            "_model_module_version": "1.5.0",
            "_view_count": null,
            "_view_module_version": "1.2.0",
            "_model_module": "@jupyter-widgets/controls"
          }
        },
        "406370c1df5945f0ab0eaf49d95119af": {
          "model_module": "@jupyter-widgets/base",
          "model_name": "LayoutModel",
          "state": {
            "_view_name": "LayoutView",
            "grid_template_rows": null,
            "right": null,
            "justify_content": null,
            "_view_module": "@jupyter-widgets/base",
            "overflow": null,
            "_model_module_version": "1.2.0",
            "_view_count": null,
            "flex_flow": null,
            "width": null,
            "min_width": null,
            "border": null,
            "align_items": null,
            "bottom": null,
            "_model_module": "@jupyter-widgets/base",
            "top": null,
            "grid_column": null,
            "overflow_y": null,
            "overflow_x": null,
            "grid_auto_flow": null,
            "grid_area": null,
            "grid_template_columns": null,
            "flex": null,
            "_model_name": "LayoutModel",
            "justify_items": null,
            "grid_row": null,
            "max_height": null,
            "align_content": null,
            "visibility": null,
            "align_self": null,
            "height": null,
            "min_height": null,
            "padding": null,
            "grid_auto_rows": null,
            "grid_gap": null,
            "max_width": null,
            "order": null,
            "_view_module_version": "1.2.0",
            "grid_template_areas": null,
            "object_position": null,
            "object_fit": null,
            "grid_auto_columns": null,
            "margin": null,
            "display": null,
            "left": null
          }
        },
        "7935be4279884b4ba4b352447a8aea23": {
          "model_module": "@jupyter-widgets/controls",
          "model_name": "HBoxModel",
          "state": {
            "_view_name": "HBoxView",
            "_dom_classes": [],
            "_model_name": "HBoxModel",
            "_view_module": "@jupyter-widgets/controls",
            "_model_module_version": "1.5.0",
            "_view_count": null,
            "_view_module_version": "1.5.0",
            "box_style": "",
            "layout": "IPY_MODEL_c1f7487588d9422bb0428d6084a15f7e",
            "_model_module": "@jupyter-widgets/controls",
            "children": [
              "IPY_MODEL_610615c63d444bd9ad5340c3dedd6855",
              "IPY_MODEL_380d1ca472c3433a9d8fc9c837e5b102"
            ]
          }
        },
        "c1f7487588d9422bb0428d6084a15f7e": {
          "model_module": "@jupyter-widgets/base",
          "model_name": "LayoutModel",
          "state": {
            "_view_name": "LayoutView",
            "grid_template_rows": null,
            "right": null,
            "justify_content": null,
            "_view_module": "@jupyter-widgets/base",
            "overflow": null,
            "_model_module_version": "1.2.0",
            "_view_count": null,
            "flex_flow": null,
            "width": null,
            "min_width": null,
            "border": null,
            "align_items": null,
            "bottom": null,
            "_model_module": "@jupyter-widgets/base",
            "top": null,
            "grid_column": null,
            "overflow_y": null,
            "overflow_x": null,
            "grid_auto_flow": null,
            "grid_area": null,
            "grid_template_columns": null,
            "flex": null,
            "_model_name": "LayoutModel",
            "justify_items": null,
            "grid_row": null,
            "max_height": null,
            "align_content": null,
            "visibility": null,
            "align_self": null,
            "height": null,
            "min_height": null,
            "padding": null,
            "grid_auto_rows": null,
            "grid_gap": null,
            "max_width": null,
            "order": null,
            "_view_module_version": "1.2.0",
            "grid_template_areas": null,
            "object_position": null,
            "object_fit": null,
            "grid_auto_columns": null,
            "margin": null,
            "display": null,
            "left": null
          }
        },
        "610615c63d444bd9ad5340c3dedd6855": {
          "model_module": "@jupyter-widgets/controls",
          "model_name": "FloatProgressModel",
          "state": {
            "_view_name": "ProgressView",
            "style": "IPY_MODEL_a9477a271b7d464aae27b175632f7cdc",
            "_dom_classes": [],
            "description": "8/10(t): 100%",
            "_model_name": "FloatProgressModel",
            "bar_style": "success",
            "max": 1565,
            "_view_module": "@jupyter-widgets/controls",
            "_model_module_version": "1.5.0",
            "value": 1565,
            "_view_count": null,
            "_view_module_version": "1.5.0",
            "orientation": "horizontal",
            "min": 0,
            "description_tooltip": null,
            "_model_module": "@jupyter-widgets/controls",
            "layout": "IPY_MODEL_c14b5e5567f841a5a6c41bda4e4c4a5b"
          }
        },
        "380d1ca472c3433a9d8fc9c837e5b102": {
          "model_module": "@jupyter-widgets/controls",
          "model_name": "HTMLModel",
          "state": {
            "_view_name": "HTMLView",
            "style": "IPY_MODEL_a94ac27d549f4f90977d954e5e96c946",
            "_dom_classes": [],
            "description": "",
            "_model_name": "HTMLModel",
            "placeholder": "​",
            "_view_module": "@jupyter-widgets/controls",
            "_model_module_version": "1.5.0",
            "value": " 1565/1565 [01:11&lt;00:00, 21.76it/s, acc=0.5554, loss=1.4547, running_acc=0.5459, running_loss=1.4937]",
            "_view_count": null,
            "_view_module_version": "1.5.0",
            "description_tooltip": null,
            "_model_module": "@jupyter-widgets/controls",
            "layout": "IPY_MODEL_78ede022669d43dbae574f84dba3aaa6"
          }
        },
        "a9477a271b7d464aae27b175632f7cdc": {
          "model_module": "@jupyter-widgets/controls",
          "model_name": "ProgressStyleModel",
          "state": {
            "_view_name": "StyleView",
            "_model_name": "ProgressStyleModel",
            "description_width": "initial",
            "_view_module": "@jupyter-widgets/base",
            "_model_module_version": "1.5.0",
            "_view_count": null,
            "_view_module_version": "1.2.0",
            "bar_color": null,
            "_model_module": "@jupyter-widgets/controls"
          }
        },
        "c14b5e5567f841a5a6c41bda4e4c4a5b": {
          "model_module": "@jupyter-widgets/base",
          "model_name": "LayoutModel",
          "state": {
            "_view_name": "LayoutView",
            "grid_template_rows": null,
            "right": null,
            "justify_content": null,
            "_view_module": "@jupyter-widgets/base",
            "overflow": null,
            "_model_module_version": "1.2.0",
            "_view_count": null,
            "flex_flow": null,
            "width": null,
            "min_width": null,
            "border": null,
            "align_items": null,
            "bottom": null,
            "_model_module": "@jupyter-widgets/base",
            "top": null,
            "grid_column": null,
            "overflow_y": null,
            "overflow_x": null,
            "grid_auto_flow": null,
            "grid_area": null,
            "grid_template_columns": null,
            "flex": null,
            "_model_name": "LayoutModel",
            "justify_items": null,
            "grid_row": null,
            "max_height": null,
            "align_content": null,
            "visibility": null,
            "align_self": null,
            "height": null,
            "min_height": null,
            "padding": null,
            "grid_auto_rows": null,
            "grid_gap": null,
            "max_width": null,
            "order": null,
            "_view_module_version": "1.2.0",
            "grid_template_areas": null,
            "object_position": null,
            "object_fit": null,
            "grid_auto_columns": null,
            "margin": null,
            "display": null,
            "left": null
          }
        },
        "a94ac27d549f4f90977d954e5e96c946": {
          "model_module": "@jupyter-widgets/controls",
          "model_name": "DescriptionStyleModel",
          "state": {
            "_view_name": "StyleView",
            "_model_name": "DescriptionStyleModel",
            "description_width": "",
            "_view_module": "@jupyter-widgets/base",
            "_model_module_version": "1.5.0",
            "_view_count": null,
            "_view_module_version": "1.2.0",
            "_model_module": "@jupyter-widgets/controls"
          }
        },
        "78ede022669d43dbae574f84dba3aaa6": {
          "model_module": "@jupyter-widgets/base",
          "model_name": "LayoutModel",
          "state": {
            "_view_name": "LayoutView",
            "grid_template_rows": null,
            "right": null,
            "justify_content": null,
            "_view_module": "@jupyter-widgets/base",
            "overflow": null,
            "_model_module_version": "1.2.0",
            "_view_count": null,
            "flex_flow": null,
            "width": null,
            "min_width": null,
            "border": null,
            "align_items": null,
            "bottom": null,
            "_model_module": "@jupyter-widgets/base",
            "top": null,
            "grid_column": null,
            "overflow_y": null,
            "overflow_x": null,
            "grid_auto_flow": null,
            "grid_area": null,
            "grid_template_columns": null,
            "flex": null,
            "_model_name": "LayoutModel",
            "justify_items": null,
            "grid_row": null,
            "max_height": null,
            "align_content": null,
            "visibility": null,
            "align_self": null,
            "height": null,
            "min_height": null,
            "padding": null,
            "grid_auto_rows": null,
            "grid_gap": null,
            "max_width": null,
            "order": null,
            "_view_module_version": "1.2.0",
            "grid_template_areas": null,
            "object_position": null,
            "object_fit": null,
            "grid_auto_columns": null,
            "margin": null,
            "display": null,
            "left": null
          }
        },
        "58970b2d13ad47e5abd35b2b1b31514a": {
          "model_module": "@jupyter-widgets/controls",
          "model_name": "HBoxModel",
          "state": {
            "_view_name": "HBoxView",
            "_dom_classes": [],
            "_model_name": "HBoxModel",
            "_view_module": "@jupyter-widgets/controls",
            "_model_module_version": "1.5.0",
            "_view_count": null,
            "_view_module_version": "1.5.0",
            "box_style": "",
            "layout": "IPY_MODEL_309e6f382b304d88a6995ca940df18ee",
            "_model_module": "@jupyter-widgets/controls",
            "children": [
              "IPY_MODEL_02b40d6e8cce4b4182a456e83d68880d",
              "IPY_MODEL_d3610b20048043a083c8c93a1a03bdc3"
            ]
          }
        },
        "309e6f382b304d88a6995ca940df18ee": {
          "model_module": "@jupyter-widgets/base",
          "model_name": "LayoutModel",
          "state": {
            "_view_name": "LayoutView",
            "grid_template_rows": null,
            "right": null,
            "justify_content": null,
            "_view_module": "@jupyter-widgets/base",
            "overflow": null,
            "_model_module_version": "1.2.0",
            "_view_count": null,
            "flex_flow": null,
            "width": null,
            "min_width": null,
            "border": null,
            "align_items": null,
            "bottom": null,
            "_model_module": "@jupyter-widgets/base",
            "top": null,
            "grid_column": null,
            "overflow_y": null,
            "overflow_x": null,
            "grid_auto_flow": null,
            "grid_area": null,
            "grid_template_columns": null,
            "flex": null,
            "_model_name": "LayoutModel",
            "justify_items": null,
            "grid_row": null,
            "max_height": null,
            "align_content": null,
            "visibility": null,
            "align_self": null,
            "height": null,
            "min_height": null,
            "padding": null,
            "grid_auto_rows": null,
            "grid_gap": null,
            "max_width": null,
            "order": null,
            "_view_module_version": "1.2.0",
            "grid_template_areas": null,
            "object_position": null,
            "object_fit": null,
            "grid_auto_columns": null,
            "margin": null,
            "display": null,
            "left": null
          }
        },
        "02b40d6e8cce4b4182a456e83d68880d": {
          "model_module": "@jupyter-widgets/controls",
          "model_name": "FloatProgressModel",
          "state": {
            "_view_name": "ProgressView",
            "style": "IPY_MODEL_dac818608a1045cebfd63f7f688329e4",
            "_dom_classes": [],
            "description": "9/10(t): 100%",
            "_model_name": "FloatProgressModel",
            "bar_style": "success",
            "max": 1565,
            "_view_module": "@jupyter-widgets/controls",
            "_model_module_version": "1.5.0",
            "value": 1565,
            "_view_count": null,
            "_view_module_version": "1.5.0",
            "orientation": "horizontal",
            "min": 0,
            "description_tooltip": null,
            "_model_module": "@jupyter-widgets/controls",
            "layout": "IPY_MODEL_216660ef38484f92b4ca9cf292f35d36"
          }
        },
        "d3610b20048043a083c8c93a1a03bdc3": {
          "model_module": "@jupyter-widgets/controls",
          "model_name": "HTMLModel",
          "state": {
            "_view_name": "HTMLView",
            "style": "IPY_MODEL_0d792c6530c84aceba3e504def91a5c4",
            "_dom_classes": [],
            "description": "",
            "_model_name": "HTMLModel",
            "placeholder": "​",
            "_view_module": "@jupyter-widgets/controls",
            "_model_module_version": "1.5.0",
            "value": " 1565/1565 [01:10&lt;00:00, 22.26it/s, acc=0.5576, loss=1.451, running_acc=0.5475, running_loss=1.468]",
            "_view_count": null,
            "_view_module_version": "1.5.0",
            "description_tooltip": null,
            "_model_module": "@jupyter-widgets/controls",
            "layout": "IPY_MODEL_250633629b4f4800bb689e2c089146dd"
          }
        },
        "dac818608a1045cebfd63f7f688329e4": {
          "model_module": "@jupyter-widgets/controls",
          "model_name": "ProgressStyleModel",
          "state": {
            "_view_name": "StyleView",
            "_model_name": "ProgressStyleModel",
            "description_width": "initial",
            "_view_module": "@jupyter-widgets/base",
            "_model_module_version": "1.5.0",
            "_view_count": null,
            "_view_module_version": "1.2.0",
            "bar_color": null,
            "_model_module": "@jupyter-widgets/controls"
          }
        },
        "216660ef38484f92b4ca9cf292f35d36": {
          "model_module": "@jupyter-widgets/base",
          "model_name": "LayoutModel",
          "state": {
            "_view_name": "LayoutView",
            "grid_template_rows": null,
            "right": null,
            "justify_content": null,
            "_view_module": "@jupyter-widgets/base",
            "overflow": null,
            "_model_module_version": "1.2.0",
            "_view_count": null,
            "flex_flow": null,
            "width": null,
            "min_width": null,
            "border": null,
            "align_items": null,
            "bottom": null,
            "_model_module": "@jupyter-widgets/base",
            "top": null,
            "grid_column": null,
            "overflow_y": null,
            "overflow_x": null,
            "grid_auto_flow": null,
            "grid_area": null,
            "grid_template_columns": null,
            "flex": null,
            "_model_name": "LayoutModel",
            "justify_items": null,
            "grid_row": null,
            "max_height": null,
            "align_content": null,
            "visibility": null,
            "align_self": null,
            "height": null,
            "min_height": null,
            "padding": null,
            "grid_auto_rows": null,
            "grid_gap": null,
            "max_width": null,
            "order": null,
            "_view_module_version": "1.2.0",
            "grid_template_areas": null,
            "object_position": null,
            "object_fit": null,
            "grid_auto_columns": null,
            "margin": null,
            "display": null,
            "left": null
          }
        },
        "0d792c6530c84aceba3e504def91a5c4": {
          "model_module": "@jupyter-widgets/controls",
          "model_name": "DescriptionStyleModel",
          "state": {
            "_view_name": "StyleView",
            "_model_name": "DescriptionStyleModel",
            "description_width": "",
            "_view_module": "@jupyter-widgets/base",
            "_model_module_version": "1.5.0",
            "_view_count": null,
            "_view_module_version": "1.2.0",
            "_model_module": "@jupyter-widgets/controls"
          }
        },
        "250633629b4f4800bb689e2c089146dd": {
          "model_module": "@jupyter-widgets/base",
          "model_name": "LayoutModel",
          "state": {
            "_view_name": "LayoutView",
            "grid_template_rows": null,
            "right": null,
            "justify_content": null,
            "_view_module": "@jupyter-widgets/base",
            "overflow": null,
            "_model_module_version": "1.2.0",
            "_view_count": null,
            "flex_flow": null,
            "width": null,
            "min_width": null,
            "border": null,
            "align_items": null,
            "bottom": null,
            "_model_module": "@jupyter-widgets/base",
            "top": null,
            "grid_column": null,
            "overflow_y": null,
            "overflow_x": null,
            "grid_auto_flow": null,
            "grid_area": null,
            "grid_template_columns": null,
            "flex": null,
            "_model_name": "LayoutModel",
            "justify_items": null,
            "grid_row": null,
            "max_height": null,
            "align_content": null,
            "visibility": null,
            "align_self": null,
            "height": null,
            "min_height": null,
            "padding": null,
            "grid_auto_rows": null,
            "grid_gap": null,
            "max_width": null,
            "order": null,
            "_view_module_version": "1.2.0",
            "grid_template_areas": null,
            "object_position": null,
            "object_fit": null,
            "grid_auto_columns": null,
            "margin": null,
            "display": null,
            "left": null
          }
        }
      }
    }
  },
  "cells": [
    {
      "cell_type": "markdown",
      "metadata": {
        "id": "view-in-github",
        "colab_type": "text"
      },
      "source": [
        "<a href=\"https://colab.research.google.com/github/Lewislou/Pytorch-pratical-Learning/blob/master/7_1_SequenceModelling.ipynb\" target=\"_parent\"><img src=\"https://colab.research.google.com/assets/colab-badge.svg\" alt=\"Open In Colab\"/></a>"
      ]
    },
    {
      "cell_type": "markdown",
      "metadata": {
        "deletable": false,
        "editable": false,
        "nbgrader": {
          "checksum": "40fe1c0748661d409405f09e9250edcf",
          "grade": false,
          "grade_id": "cell-f67b416b0411edc1",
          "locked": true,
          "schema_version": 1,
          "solution": false
        },
        "id": "iKyDHjfxfhwn",
        "colab_type": "text"
      },
      "source": [
        "# Part 1: Sequence Modelling"
      ]
    },
    {
      "cell_type": "markdown",
      "metadata": {
        "deletable": false,
        "editable": false,
        "nbgrader": {
          "checksum": "ed5be3ed6978c8f54e5301bbb9d0d0bd",
          "grade": false,
          "grade_id": "cell-a328195514e4147d",
          "locked": true,
          "schema_version": 1,
          "solution": false
        },
        "id": "xtXLsGfWfhwp",
        "colab_type": "text"
      },
      "source": [
        "__Before starting, we recommend you enable GPU acceleration if you're running on Colab.__"
      ]
    },
    {
      "cell_type": "code",
      "metadata": {
        "deletable": false,
        "editable": false,
        "nbgrader": {
          "checksum": "5d3c83086d3c94835d3f8510df7f8d0f",
          "grade": false,
          "grade_id": "cell-52dc2d0ecf866f90",
          "locked": true,
          "schema_version": 1,
          "solution": false
        },
        "id": "VJweDrnafhwr",
        "colab_type": "code",
        "outputId": "f2aa603e-7644-4fc3-b67e-2164e3229f8e",
        "colab": {
          "base_uri": "https://localhost:8080/",
          "height": 174
        }
      },
      "source": [
        "# Execute this code block to install dependencies when running on colab\n",
        "try:\n",
        "    import torch\n",
        "except:\n",
        "    from os.path import exists\n",
        "    from wheel.pep425tags import get_abbr_impl, get_impl_ver, get_abi_tag\n",
        "    platform = '{}{}-{}'.format(get_abbr_impl(), get_impl_ver(), get_abi_tag())\n",
        "    cuda_output = !ldconfig -p|grep cudart.so|sed -e 's/.*\\.\\([0-9]*\\)\\.\\([0-9]*\\)$/cu\\1\\2/'\n",
        "    accelerator = cuda_output[0] if exists('/dev/nvidia0') else 'cpu'\n",
        "\n",
        "    !pip install -q http://download.pytorch.org/whl/{accelerator}/torch-1.0.0-{platform}-linux_x86_64.whl torchvision\n",
        "\n",
        "try: \n",
        "    import torchbearer\n",
        "except:\n",
        "    !pip install torchbearer"
      ],
      "execution_count": 0,
      "outputs": [
        {
          "output_type": "stream",
          "text": [
            "Collecting torchbearer\n",
            "\u001b[?25l  Downloading https://files.pythonhosted.org/packages/ff/e9/4049a47dd2e5b6346a2c5d215b0c67dce814afbab1cd54ce024533c4834e/torchbearer-0.5.3-py3-none-any.whl (138kB)\n",
            "\r\u001b[K     |██▍                             | 10kB 18.2MB/s eta 0:00:01\r\u001b[K     |████▊                           | 20kB 3.1MB/s eta 0:00:01\r\u001b[K     |███████▏                        | 30kB 4.2MB/s eta 0:00:01\r\u001b[K     |█████████▌                      | 40kB 4.5MB/s eta 0:00:01\r\u001b[K     |███████████▉                    | 51kB 3.6MB/s eta 0:00:01\r\u001b[K     |██████████████▎                 | 61kB 4.1MB/s eta 0:00:01\r\u001b[K     |████████████████▋               | 71kB 4.4MB/s eta 0:00:01\r\u001b[K     |███████████████████             | 81kB 4.8MB/s eta 0:00:01\r\u001b[K     |█████████████████████▍          | 92kB 5.1MB/s eta 0:00:01\r\u001b[K     |███████████████████████▊        | 102kB 4.9MB/s eta 0:00:01\r\u001b[K     |██████████████████████████      | 112kB 4.9MB/s eta 0:00:01\r\u001b[K     |████████████████████████████▌   | 122kB 4.9MB/s eta 0:00:01\r\u001b[K     |██████████████████████████████▉ | 133kB 4.9MB/s eta 0:00:01\r\u001b[K     |████████████████████████████████| 143kB 4.9MB/s \n",
            "\u001b[?25hRequirement already satisfied: numpy in /usr/local/lib/python3.6/dist-packages (from torchbearer) (1.18.4)\n",
            "Requirement already satisfied: tqdm in /usr/local/lib/python3.6/dist-packages (from torchbearer) (4.41.1)\n",
            "Requirement already satisfied: torch>=1.0.0 in /usr/local/lib/python3.6/dist-packages (from torchbearer) (1.5.0+cu101)\n",
            "Requirement already satisfied: future in /usr/local/lib/python3.6/dist-packages (from torch>=1.0.0->torchbearer) (0.16.0)\n",
            "Installing collected packages: torchbearer\n",
            "Successfully installed torchbearer-0.5.3\n"
          ],
          "name": "stdout"
        }
      ]
    },
    {
      "cell_type": "markdown",
      "metadata": {
        "deletable": false,
        "editable": false,
        "nbgrader": {
          "checksum": "e9c1849d2839e6c1ebac8b563fe9d0bc",
          "grade": false,
          "grade_id": "cell-36906cd59153af5b",
          "locked": true,
          "schema_version": 1,
          "solution": false
        },
        "id": "VxPuvEZzfhw5",
        "colab_type": "text"
      },
      "source": [
        "## Markov chains\n",
        "\n",
        "We'll start our exploration of modelling sequences and building generative models using a 1st order Markov chain. The Markov chain is a stochastic model describing a sequence of possible events in which the probability of each event depends only on the state attained in the previous event. In our case we're going to learn a model over a set of characters from an English language text. The events, or states, in our model are the set of possible characters, and we'll learn the probability of moving from one character to the next.\n",
        "\n",
        "Let's start by loading the data from the web:"
      ]
    },
    {
      "cell_type": "code",
      "metadata": {
        "deletable": false,
        "editable": false,
        "nbgrader": {
          "checksum": "508d37e774c4619f7c4706291f52c466",
          "grade": false,
          "grade_id": "cell-a592d788c1587e58",
          "locked": true,
          "schema_version": 1,
          "solution": false
        },
        "id": "KIMYzubzfhw7",
        "colab_type": "code",
        "outputId": "2ed18ba4-5706-414c-8516-60ab8b7f6c74",
        "colab": {
          "base_uri": "https://localhost:8080/",
          "height": 84,
          "referenced_widgets": [
            "910aa63d30e04b72a25d4e8639bdd1e4",
            "0036ac876b464f8e929e884d557a9957",
            "92e9814267ca41efb86e34b75e46a8fb",
            "a8d7225af54441ed8c8024e7a56940fd",
            "ac8b2c028e414624a241200da0fe2fee",
            "9d7571e51617429989100c253d159104",
            "0437ba26308b42aa98cda41f770d0d5b",
            "0865636818144faba19951a5056b0590"
          ]
        }
      },
      "source": [
        "from torchvision.datasets.utils import download_url\n",
        "import torch\n",
        "import random\n",
        "import sys\n",
        "import io\n",
        "\n",
        "# Read the data\n",
        "download_url('https://s3.amazonaws.com/text-datasets/nietzsche.txt', '.', 'nietzsche.txt', None)\n",
        "text = io.open('./nietzsche.txt', encoding='utf-8').read().lower()\n",
        "print('corpus length:', len(text))"
      ],
      "execution_count": 0,
      "outputs": [
        {
          "output_type": "stream",
          "text": [
            "Downloading https://s3.amazonaws.com/text-datasets/nietzsche.txt to ./nietzsche.txt\n"
          ],
          "name": "stdout"
        },
        {
          "output_type": "display_data",
          "data": {
            "application/vnd.jupyter.widget-view+json": {
              "model_id": "910aa63d30e04b72a25d4e8639bdd1e4",
              "version_minor": 0,
              "version_major": 2
            },
            "text/plain": [
              "HBox(children=(FloatProgress(value=1.0, bar_style='info', max=1.0), HTML(value='')))"
            ]
          },
          "metadata": {
            "tags": []
          }
        },
        {
          "output_type": "stream",
          "text": [
            "corpus length: 600893\n"
          ],
          "name": "stdout"
        }
      ]
    },
    {
      "cell_type": "markdown",
      "metadata": {
        "deletable": false,
        "editable": false,
        "nbgrader": {
          "checksum": "a1b08d3393744a64f2d1991d8ddd3c1a",
          "grade": false,
          "grade_id": "cell-f345306b2d88866e",
          "locked": true,
          "schema_version": 1,
          "solution": false
        },
        "id": "lKk216iAfhxH",
        "colab_type": "text"
      },
      "source": [
        "We now need to iterate over the characters in the text and count the times each transition happens:"
      ]
    },
    {
      "cell_type": "code",
      "metadata": {
        "deletable": false,
        "editable": false,
        "nbgrader": {
          "checksum": "8452011964d66c1c591df5d4f49c82b6",
          "grade": false,
          "grade_id": "cell-21c1c86b5d26778f",
          "locked": true,
          "schema_version": 1,
          "solution": false
        },
        "id": "L6rRkhqJfhxJ",
        "colab_type": "code",
        "colab": {}
      },
      "source": [
        "transition_counts = dict()\n",
        "for i in range(0,len(text)-1):\n",
        "    currc = text[i]\n",
        "    nextc = text[i+1]\n",
        "    if currc not in transition_counts:\n",
        "        transition_counts[currc] = dict()\n",
        "    if nextc not in transition_counts[currc]:\n",
        "        transition_counts[currc][nextc] = 0\n",
        "    transition_counts[currc][nextc] += 1"
      ],
      "execution_count": 0,
      "outputs": []
    },
    {
      "cell_type": "markdown",
      "metadata": {
        "deletable": false,
        "editable": false,
        "nbgrader": {
          "checksum": "73f178f03f644719a7684c942212b488",
          "grade": false,
          "grade_id": "cell-f93390ea74e0de36",
          "locked": true,
          "schema_version": 1,
          "solution": false
        },
        "id": "MT1mMa7NfhxS",
        "colab_type": "text"
      },
      "source": [
        "The `transition_counts` dictionary maps the current character to the next character, and this is then mapped to a count. We can for example use this datastructure to get the number of times the letter 'a' was followed by a 'b':"
      ]
    },
    {
      "cell_type": "code",
      "metadata": {
        "deletable": false,
        "editable": false,
        "nbgrader": {
          "checksum": "d37afa35d97a35848444cbffb3d4369c",
          "grade": false,
          "grade_id": "cell-ed4eee0105f3a0cf",
          "locked": true,
          "schema_version": 1,
          "solution": false
        },
        "id": "-yIMLWXgfhxU",
        "colab_type": "code",
        "colab": {}
      },
      "source": [
        "print(\"Number of transitions from 'a' to 'b': \" + str(transition_counts['a']['b']))"
      ],
      "execution_count": 0,
      "outputs": []
    },
    {
      "cell_type": "markdown",
      "metadata": {
        "deletable": false,
        "editable": false,
        "nbgrader": {
          "checksum": "89b218435d0475de2fd126d6cf654d07",
          "grade": false,
          "grade_id": "cell-195d5f1aebd40797",
          "locked": true,
          "schema_version": 1,
          "solution": false
        },
        "id": "iCuJrJDQfhxd",
        "colab_type": "text"
      },
      "source": [
        "Finally, to complete the model we need to normalise the counts for each initial character into a probability distribution over the possible next character. We'll slightly modify the form we're storing these and maintain a tuple of array objects for each initial character: the first holding the set of possible characters, and the second holding the corresponding probabilities:"
      ]
    },
    {
      "cell_type": "code",
      "metadata": {
        "deletable": false,
        "editable": false,
        "nbgrader": {
          "checksum": "9dbad32065a0c97c65cc5760b5efa718",
          "grade": false,
          "grade_id": "cell-28d68d95d39e3180",
          "locked": true,
          "schema_version": 1,
          "solution": false
        },
        "id": "cXoC27iEfhxi",
        "colab_type": "code",
        "colab": {}
      },
      "source": [
        "transition_probabilities = dict()\n",
        "for currentc, next_counts in transition_counts.items():\n",
        "    values = []\n",
        "    probabilities = []\n",
        "    sumall = 0\n",
        "    for nextc, count in next_counts.items():\n",
        "        values.append(nextc)\n",
        "        probabilities.append(count)\n",
        "        sumall += count\n",
        "    for i in range(0, len(probabilities)):\n",
        "        probabilities[i] /= float(sumall)\n",
        "    transition_probabilities[currentc] = (values, probabilities)"
      ],
      "execution_count": 0,
      "outputs": []
    },
    {
      "cell_type": "markdown",
      "metadata": {
        "deletable": false,
        "editable": false,
        "nbgrader": {
          "checksum": "7e7336b1ef946f10dc63020be2b17ecf",
          "grade": false,
          "grade_id": "cell-f79188db65a705aa",
          "locked": true,
          "schema_version": 1,
          "solution": false
        },
        "id": "MoUZa9iCfhx6",
        "colab_type": "text"
      },
      "source": [
        "At this point, we could print out the probability distribution for a given initial character state. For example, to print the distribution for 'a':"
      ]
    },
    {
      "cell_type": "code",
      "metadata": {
        "deletable": false,
        "editable": false,
        "nbgrader": {
          "checksum": "5eaaf96ae4181ad3a2b7087d9643ff1f",
          "grade": false,
          "grade_id": "cell-ee624b4c0ff2c64f",
          "locked": true,
          "schema_version": 1,
          "solution": false
        },
        "id": "SKGIXylGfhx9",
        "colab_type": "code",
        "colab": {}
      },
      "source": [
        "for a,b in zip(transition_probabilities['a'][0], transition_probabilities['a'][1]):\n",
        "    print(a,b)"
      ],
      "execution_count": 0,
      "outputs": []
    },
    {
      "cell_type": "code",
      "metadata": {
        "id": "1Ju1NelUhlYb",
        "colab_type": "code",
        "outputId": "eb28ccfe-bc56-4f79-a19c-c46d9c584981",
        "colab": {
          "base_uri": "https://localhost:8080/",
          "height": 104
        }
      },
      "source": [
        "print(text[0:100])"
      ],
      "execution_count": 0,
      "outputs": [
        {
          "output_type": "stream",
          "text": [
            "preface\n",
            "\n",
            "\n",
            "supposing that truth is a woman--what then? is there not ground\n",
            "for suspecting that all ph\n"
          ],
          "name": "stdout"
        }
      ]
    },
    {
      "cell_type": "markdown",
      "metadata": {
        "deletable": false,
        "editable": false,
        "nbgrader": {
          "checksum": "93b3745091fcb17322253b02af1bc2d9",
          "grade": false,
          "grade_id": "cell-9cc2f51ebb3ea728",
          "locked": true,
          "schema_version": 1,
          "solution": false
        },
        "id": "7thA6SEjfhyR",
        "colab_type": "text"
      },
      "source": [
        "It looks like the most probable letter to follow an 'a' is 'n'. \n",
        "\n",
        "__What is the most likely letter to follow the letter 'j'? Write your answer in the block below:__"
      ]
    },
    {
      "cell_type": "code",
      "metadata": {
        "deletable": false,
        "nbgrader": {
          "checksum": "bd3cad04582e881ebc595619cef14fd1",
          "grade": true,
          "grade_id": "cell-2a3a71268b5a2df9",
          "locked": false,
          "points": 1,
          "schema_version": 1,
          "solution": true
        },
        "id": "ZpnNLPUOfhyT",
        "colab_type": "code",
        "outputId": "d6429f15-716a-4fe8-ccef-c6e8f6732440",
        "colab": {
          "base_uri": "https://localhost:8080/",
          "height": 54
        }
      },
      "source": [
        "words = []\n",
        "word = ''\n",
        "for i in range(0,len(text)-1):\n",
        "  if (text[i] is not ' ') and (text[i] is not '\\n'):\n",
        "    word += text[i]\n",
        "  elif len(word)>0:\n",
        "    words.append(word.replace(' ',''))\n",
        "    word = ''\n",
        "print(words[:100])"
      ],
      "execution_count": 0,
      "outputs": [
        {
          "output_type": "stream",
          "text": [
            "['preface', 'supposing', 'that', 'truth', 'is', 'a', 'woman--what', 'then?', 'is', 'there', 'not', 'ground', 'for', 'suspecting', 'that', 'all', 'philosophers,', 'in', 'so', 'far', 'as', 'they', 'have', 'been', 'dogmatists,', 'have', 'failed', 'to', 'understand', 'women--that', 'the', 'terrible', 'seriousness', 'and', 'clumsy', 'importunity', 'with', 'which', 'they', 'have', 'usually', 'paid', 'their', 'addresses', 'to', 'truth,', 'have', 'been', 'unskilled', 'and', 'unseemly', 'methods', 'for', 'winning', 'a', 'woman?', 'certainly', 'she', 'has', 'never', 'allowed', 'herself', 'to', 'be', 'won;', 'and', 'at', 'present', 'every', 'kind', 'of', 'dogma', 'stands', 'with', 'sad', 'and', 'discouraged', 'mien--if,', 'indeed,', 'it', 'stands', 'at', 'all!', 'for', 'there', 'are', 'scoffers', 'who', 'maintain', 'that', 'it', 'has', 'fallen,', 'that', 'all', 'dogma', 'lies', 'on', 'the', 'ground--nay']\n"
          ],
          "name": "stdout"
        }
      ]
    },
    {
      "cell_type": "code",
      "metadata": {
        "id": "B6sgcMJDhwXm",
        "colab_type": "code",
        "colab": {}
      },
      "source": [
        "transition_counts = dict()\n",
        "for i in range(len(words)-1):\n",
        "  curr = words[i]\n",
        "  next = words[i+1]\n",
        "  #print(curr,next)\n",
        "  if curr not in transition_counts:\n",
        "      transition_counts[curr] = dict()\n",
        "  if next not in transition_counts[curr]:\n",
        "      transition_counts[curr][next] = 0\n",
        "  transition_counts[curr][next] += 1"
      ],
      "execution_count": 0,
      "outputs": []
    },
    {
      "cell_type": "code",
      "metadata": {
        "id": "daAD49bajN3d",
        "colab_type": "code",
        "outputId": "bafd8c3c-d985-4a6c-8658-ef2cc46e12f3",
        "colab": {
          "base_uri": "https://localhost:8080/",
          "height": 34
        }
      },
      "source": [
        "print(\"Number of transitions from 'is' to 'a': \" + str(transition_counts['at']['all']))"
      ],
      "execution_count": 0,
      "outputs": [
        {
          "output_type": "stream",
          "text": [
            "Number of transitions from 'is' to 'a': 23\n"
          ],
          "name": "stdout"
        }
      ]
    },
    {
      "cell_type": "code",
      "metadata": {
        "id": "kSqev29sizEG",
        "colab_type": "code",
        "colab": {}
      },
      "source": [
        "transition_probabilities = dict()\n",
        "for currentc, next_counts in transition_counts.items():\n",
        "    values = []\n",
        "    probabilities = []\n",
        "    sumall = 0\n",
        "    for nextc, count in next_counts.items():\n",
        "        values.append(nextc)\n",
        "        probabilities.append(count)\n",
        "        sumall += count\n",
        "    for i in range(0, len(probabilities)):\n",
        "        probabilities[i] /= float(sumall)\n",
        "    transition_probabilities[currentc] = (values, probabilities)"
      ],
      "execution_count": 0,
      "outputs": []
    },
    {
      "cell_type": "markdown",
      "metadata": {
        "deletable": false,
        "editable": false,
        "nbgrader": {
          "checksum": "fb10d0a7366b0f59055017a39614e93e",
          "grade": false,
          "grade_id": "cell-43b70458c31baaf3",
          "locked": true,
          "schema_version": 1,
          "solution": false
        },
        "id": "Rp1nOQeffhyY",
        "colab_type": "text"
      },
      "source": [
        "We mentioned earlier that the Markov model is generative. This means that we can draw samples from the distributions and iteratively move between states. \n",
        "\n",
        "Use the following code block to iteratively sample 1000 characters from the model, starting with an initial character 't'. You can use the `torch.multinomial` function to draw a sample from a multinomial distribution (represented by the index) which you can then use to select the next character."
      ]
    },
    {
      "cell_type": "code",
      "metadata": {
        "deletable": false,
        "nbgrader": {
          "checksum": "4f50c283225208b2043431a1c2da104f",
          "grade": true,
          "grade_id": "cell-5be0d1f3fc6e8f65",
          "locked": false,
          "points": 4,
          "schema_version": 1,
          "solution": true
        },
        "id": "fp82z50ofhya",
        "colab_type": "code",
        "colab": {}
      },
      "source": [
        "current = 't'\n",
        "for i in range(0, 1000):\n",
        "    print(current, end='')\n",
        "    # sample the next character based on `current` and store the result in `current`\n",
        "    # YOUR CODE HERE\n",
        "    raise NotImplementedError(ttransition_probabilities['a'][1])"
      ],
      "execution_count": 0,
      "outputs": []
    },
    {
      "cell_type": "markdown",
      "metadata": {
        "deletable": false,
        "editable": false,
        "nbgrader": {
          "checksum": "56c49154c48797d312762e4761085bf7",
          "grade": false,
          "grade_id": "cell-de87ac1c9708205f",
          "locked": true,
          "schema_version": 1,
          "solution": false
        },
        "id": "Q9m3Ici2fhyg",
        "colab_type": "text"
      },
      "source": [
        "You should observe a result that is clearly not English, but it should be obvious that some of the common structures in the English language have been captured.\n",
        "\n",
        "__Rather than building a model based on individual characters, can you implement a model in the following code block that works on words instead?__"
      ]
    },
    {
      "cell_type": "code",
      "metadata": {
        "id": "qEj4l4Bhihx3",
        "colab_type": "code",
        "outputId": "0693b867-975e-49aa-b4fa-0920187d3c1c",
        "colab": {
          "base_uri": "https://localhost:8080/",
          "height": 34
        }
      },
      "source": [
        "transition_probabilities['the'][0][1]"
      ],
      "execution_count": 0,
      "outputs": [
        {
          "output_type": "execute_result",
          "data": {
            "text/plain": [
              "'ground--nay'"
            ]
          },
          "metadata": {
            "tags": []
          },
          "execution_count": 31
        }
      ]
    },
    {
      "cell_type": "code",
      "metadata": {
        "deletable": false,
        "nbgrader": {
          "checksum": "ed71d61ce7a2f648d7507693902da3d7",
          "grade": true,
          "grade_id": "cell-a6d4a8a639190296",
          "locked": false,
          "points": 5,
          "schema_version": 1,
          "solution": true
        },
        "id": "uJ_Tukerfhyi",
        "colab_type": "code",
        "outputId": "ecbde396-39c6-4bf3-d601-0f5166db14bc",
        "colab": {
          "base_uri": "https://localhost:8080/",
          "height": 54
        }
      },
      "source": [
        "current = 'the'\n",
        "result = ''\n",
        "for i in range(0, 1000):\n",
        "    #print(current, end='')\n",
        "    index = torch.multinomial(torch.Tensor(transition_probabilities[current][1]),1)\n",
        "    result += (transition_probabilities[current][0][index]+' ')\n",
        "    current = transition_probabilities[current][0][index]\n",
        "print(result)"
      ],
      "execution_count": 0,
      "outputs": [
        {
          "output_type": "stream",
          "text": [
            "foreground--it recently when we observe how to persist, moreover, does not the art and prostration. for every one in the weaker type, beyond, before, broken down, sunk, and super-plenitude of german himself a will follow their number of the deed once be thought out of rights\" and thoroughly;--the genius is involuntarily manifests emphatically its allegations of how to the emotion, a little value upon a metaphysical views have understood this verdict of birdlike visual faculty--the delicacy of property. one does right: whatever standpoint of natural nature, barbarians in cases, i may look upon sufferers are false conclusion knows how to be taken into the intellect. one day of its little stone; all kinds of grace of european culture. apparently to agreement with love, and died for mediocre man; and development. they are unlawful what they become so make one does it proves a healthier--sleep, we, too, much of salt and that is less delicate matter, only a piece of with time coined the abbe galiani, the exercise of the midday-friend,--no, do justice was in= the heart, ennoblement of the terrible farce, quite uncertain and lack of complex volitions. what have all of benefit and dissembling power can it would not only of least in its asiatic relatives--a thing of speech in ill of society seems absolutely be well-nigh galling; rivalry for the presence of injury, to be found that stupidity might not belong; and are determined according to that is possible for the question of independence and multiplicities. in all the boat, but compared with the idea \"within and making on one's \"good old\" time is grateful as already hearing and development-doctrine of metaphysic is called virtue. for the habit of them comprehend the belief that there is to misunderstand each single words drop down the anti-semitic bawlers out the separate philosophical ideas by a whole former diffidence and likeness. should one of creatures becomes far from the wagnerian folly, the religious comet gleam of a \"morbidness\" in disrepute, inasmuch as end to prove something--nowadays, on that the continent, a frittering away. 36 =objection.=--or is distrust as the ambitious envy and man will men is no other sorts of the masses: they are occasioned, and dissection, and thus the degree dark were refuted systems, just when he will say, as necessary, because they generalize where have to account give those who are lost on the loneliness and of the terrible farce, quite different: for children and who despises them. they say, the day after long as the plebeianism in spite of the hypothesis must be the germans of psychology was proud disdain is the neighbour, and distrust and also was not the anti-semitic bawlers out of men, with delight and reliable virtues, although it is itself surprisingly when our hand may not to go to the philosophical thinking; has settled beforehand what it is open for something lacking in many things as if we are to the person betrays to deceiving and not, however decided whether german who the part of \"the right light, at once more, around us only kind feeling. the reciprocal love with all the weaker has knowledge, will never the prose is ever looked upon the reason and galleries in moliere, quia est natura sensus assoupire. but supported by the more momentous. let itself exclusively in the immediate succession of their presence, it wants, and sang, when one should one succumbed by means of naturalists, who always hears something (wish, impulse, here every being \"science,\" much lightened and effect that an air of repose, comes this? apparently opposed to give them as a poet so long period, and ethic.=--to be acknowledged nowadays, throughout the best period which does it there. the animal, uncanny to all their eyes of its seriousness. but rough and attention to make the lap of man to have no more interesting to the barbarian of grace, still professes to those sincere ass would like, by a seemingly higher step, is the other systems of the will have devised for reverence. difference in psychical power--they were it affinities is all his inventive talent in desire, we find satisfaction of high school and which much to the only thought out of the most at german thought, that is possible from doing when she has always see no life as long list of the sublimest sort of self-torment and stopped ulysses-ears, deaf to make use of the suspicion that he feels, the world to give it becomes so the sharpest ears. in order that moves with regard itself must be understood this belief. they were beside themselves as in every philosophy may be useful to speak, which the same kind, and the same effect does not anything of very reason, which were also a result of whose invisible influence be a reason the present moment believed about coming of life, for point, is something simple; and falsifies for the master-task and living itself, however, is worth asking!--it would essay some kind of others; but one day and more in injuring of himself; that has caused me that reverence, it is sworn. 59 =intellect and always had to answer. people should dream here at times repeated, it is continually developing, for every form the collective individuality. 95 =ethic discredited at least they have stammered as those indifferent magnificence, which is a complex, for the whole of delusions shed a slight extent--and this prudence and elevation and displeasure, if they can still unconquered enemy:--it was the emotion of religious life and alarming to myself, can let all religions and chaining of man's inner \"desperateness\" of knowledge makes them that a legion of communication, desires it, \"faith,\" or deteriorations and enervation?--so it desinteresse, and even pronounced a being the conviction how many generations to believe that there was in= the refinement of cognizing every conceivable that this double benefit of least as hard[ness] the disintegrating effects its nutriment. there is to believe that it is easy and their pigtail.--ah! if he is not almost automatically bound by the \n"
          ],
          "name": "stdout"
        }
      ]
    },
    {
      "cell_type": "markdown",
      "metadata": {
        "deletable": false,
        "editable": false,
        "nbgrader": {
          "checksum": "cd494f7c9fd0e838e74a5c70cd5ef773",
          "grade": false,
          "grade_id": "cell-d54dcdc1d540df4f",
          "locked": true,
          "schema_version": 1,
          "solution": false
        },
        "id": "6_hKVQWCfhyq",
        "colab_type": "text"
      },
      "source": [
        "## RNN-based sequence modelling\n",
        "\n",
        "It is possible to build higher-order Markov models that capture longer-term dependencies in the text and have higher accuracy, however this does tend to become computationally infeasible very quickly. Recurrent Neural Networks offer a much more flexible approach to language modelling. \n",
        "\n",
        "We'll use the same data as above, and start by creating mappings of characters to numeric indices (and vice-versa):"
      ]
    },
    {
      "cell_type": "code",
      "metadata": {
        "deletable": false,
        "editable": false,
        "nbgrader": {
          "checksum": "ae5b316a7c13ecd23143d4dfa35bee5c",
          "grade": false,
          "grade_id": "cell-d152a2cb9707a4c4",
          "locked": true,
          "schema_version": 1,
          "solution": false
        },
        "id": "29NzxfYifhyr",
        "colab_type": "code",
        "outputId": "9665cd52-c1aa-4d3d-f907-256e4cd0e04c",
        "colab": {
          "base_uri": "https://localhost:8080/",
          "height": 34
        }
      },
      "source": [
        "chars = sorted(list(set(text)))\n",
        "print('total chars:', len(chars))\n",
        "char_indices = dict((c, i) for i, c in enumerate(chars))\n",
        "indices_char = dict((i, c) for i, c in enumerate(chars))"
      ],
      "execution_count": 0,
      "outputs": [
        {
          "output_type": "stream",
          "text": [
            "total chars: 57\n"
          ],
          "name": "stdout"
        }
      ]
    },
    {
      "cell_type": "markdown",
      "metadata": {
        "deletable": false,
        "editable": false,
        "nbgrader": {
          "checksum": "f5f0f03e31eccfb78d1756139f90e1ac",
          "grade": false,
          "grade_id": "cell-46a85547d03a1f30",
          "locked": true,
          "schema_version": 1,
          "solution": false
        },
        "id": "7sAVl2FLfhy0",
        "colab_type": "text"
      },
      "source": [
        "We'll also write some helper functions to encode and decode the data to/from tensors of indices, and an implementation of a `torch.Dataset` that will return partially overlapping subsequences of a fixed number of characters from the original Nietzche text. Our model will learn to associate a sequence of characters (the $x$'s) to a single character (the $y$'s):"
      ]
    },
    {
      "cell_type": "code",
      "metadata": {
        "deletable": false,
        "editable": false,
        "nbgrader": {
          "checksum": "fb93c4daba5adbfabf8ef5656cc89543",
          "grade": false,
          "grade_id": "cell-64f8b2518a008c54",
          "locked": true,
          "schema_version": 1,
          "solution": false
        },
        "id": "rlTr0LCDfhy1",
        "colab_type": "code",
        "colab": {}
      },
      "source": [
        "from torch.utils.data import Dataset, DataLoader\n",
        "from torch import nn\n",
        "from torch.nn import functional as F\n",
        "from torch import optim\n",
        "import random\n",
        "import sys\n",
        "import io\n",
        "\n",
        "maxlen = 40\n",
        "step = 3\n",
        "\n",
        "\n",
        "def encode(inp):\n",
        "    # encode the characters in a tensor\n",
        "    x = torch.zeros(maxlen, dtype=torch.long)\n",
        "    for t, char in enumerate(inp):\n",
        "        x[t] = char_indices[char]\n",
        "\n",
        "    return x\n",
        "\n",
        "\n",
        "def decode(ten):\n",
        "    s = ''\n",
        "    for v in ten:\n",
        "        s += indices_char[v] \n",
        "    return s\n",
        "\n",
        "\n",
        "class MyDataset(Dataset):\n",
        "    # cut the text in semi-redundant sequences of maxlen characters\n",
        "    def __len__(self):\n",
        "        return (len(text) - maxlen) // step\n",
        "\n",
        "    def __getitem__(self, i):\n",
        "        inp = text[i*step: i*step + maxlen]\n",
        "        out = text[i*step + maxlen]\n",
        "\n",
        "        x = encode(inp)\n",
        "        y = char_indices[out]\n",
        "\n",
        "        return x, y"
      ],
      "execution_count": 0,
      "outputs": []
    },
    {
      "cell_type": "markdown",
      "metadata": {
        "deletable": false,
        "editable": false,
        "nbgrader": {
          "checksum": "df5113fc9d6d635dca32463f07fcb7d1",
          "grade": false,
          "grade_id": "cell-bdbb9997aa91863b",
          "locked": true,
          "schema_version": 1,
          "solution": false
        },
        "id": "Xmu9-Eyyfhy7",
        "colab_type": "text"
      },
      "source": [
        "We can now define the model. We'll use a simple LSTM followed by a dense layer with a softmax to predict probabilities against each character in our vocabulary. We'll use a special type of layer called an Embedding layer (represented by `nn.Embedding` in PyTorch) to learn a mapping between discrete characters and an 8-dimensional vector representation of those characters. You'll learn more about Embeddings in the next part of the lab."
      ]
    },
    {
      "cell_type": "code",
      "metadata": {
        "deletable": false,
        "editable": false,
        "nbgrader": {
          "checksum": "2d79273b7a17d28c4d6c93e3d22927f5",
          "grade": false,
          "grade_id": "cell-2aa5e9483ccd6ba4",
          "locked": true,
          "schema_version": 1,
          "solution": false
        },
        "id": "cCqXdToxfhy8",
        "colab_type": "code",
        "colab": {}
      },
      "source": [
        "class CharPredictor(nn.Module):\n",
        "    def __init__(self):\n",
        "        super(CharPredictor, self).__init__()\n",
        "        self.emb = nn.Embedding(len(chars), 8)\n",
        "        self.lstm = nn.LSTM(8, 128, batch_first=True)\n",
        "        self.lin = nn.Linear(128, len(chars))\n",
        "\n",
        "    def forward(self, x):\n",
        "        x = self.emb(x)\n",
        "        lstm_out, _ = self.lstm(x)\n",
        "        out = self.lin(lstm_out[:,-1]) #we want the final timestep output (timesteps in last index with batch_first)\n",
        "        return out"
      ],
      "execution_count": 0,
      "outputs": []
    },
    {
      "cell_type": "markdown",
      "metadata": {
        "deletable": false,
        "editable": false,
        "nbgrader": {
          "checksum": "8d9e5e92460bbe5a977021f631362478",
          "grade": false,
          "grade_id": "cell-eda65e7ef08f66a5",
          "locked": true,
          "schema_version": 1,
          "solution": false
        },
        "id": "rlTUJil9fhzD",
        "colab_type": "text"
      },
      "source": [
        "We could train our model at this point, but it would be nice to be able to sample it during training so we can see how its learning. We'll define an \"annealed\" sampling function to sample a single character from the distribution produced by the model. The annealed sampling function has a temperature parameter which moderates the probability distribution being sampled - low temperature will force the samples to come from only the most likely character, whilst higher temperatures allow for more variability in the character that is sampled:"
      ]
    },
    {
      "cell_type": "code",
      "metadata": {
        "deletable": false,
        "editable": false,
        "nbgrader": {
          "checksum": "5aedd2ccd26ef2d6505278a7894671e4",
          "grade": false,
          "grade_id": "cell-be521ae6b656234a",
          "locked": true,
          "schema_version": 1,
          "solution": false
        },
        "id": "dvwmTiV_fhzE",
        "colab_type": "code",
        "colab": {}
      },
      "source": [
        "def sample(logits, temperature=1.0):\n",
        "    # helper function to sample an index from a probability array\n",
        "    logits = logits / temperature\n",
        "    return torch.multinomial(F.softmax(logits, dim=0), 1)"
      ],
      "execution_count": 0,
      "outputs": []
    },
    {
      "cell_type": "markdown",
      "metadata": {
        "deletable": false,
        "editable": false,
        "nbgrader": {
          "checksum": "5057964b1e77f5ba8c92abf3148ce73f",
          "grade": false,
          "grade_id": "cell-981d79ec1593b83b",
          "locked": true,
          "schema_version": 1,
          "solution": false
        },
        "id": "3gdDS7BLfhzK",
        "colab_type": "text"
      },
      "source": [
        "Torchbearer lets us define callbacks which can be triggered during training (for example at the end of each epoch). Let's write a callback that will sample some sentences using a range of different 'temperatures' for our annealed sampling function:"
      ]
    },
    {
      "cell_type": "code",
      "metadata": {
        "deletable": false,
        "editable": false,
        "nbgrader": {
          "checksum": "44f0bad7cc7aa788fa4111d6a55766ca",
          "grade": false,
          "grade_id": "cell-788b63e92e811aa8",
          "locked": true,
          "schema_version": 1,
          "solution": false
        },
        "id": "Buz0pD3vfhzL",
        "colab_type": "code",
        "colab": {}
      },
      "source": [
        "import torchbearer\n",
        "from torchbearer import Trial\n",
        "from torchbearer.callbacks.decorators import on_end_epoch\n",
        "\n",
        "device = \"cuda:0\"\n",
        "\n",
        "@on_end_epoch\n",
        "def create_samples(state):\n",
        "    with torch.no_grad():\n",
        "        epoch = -1\n",
        "        if state is not None:\n",
        "            epoch = state[torchbearer.EPOCH]\n",
        "\n",
        "        print()\n",
        "        print('----- Generating text after Epoch: %d' % epoch)\n",
        "\n",
        "        start_index = random.randint(0, len(text) - maxlen - 1)\n",
        "        for diversity in [0.2, 0.5, 1.0, 1.2]:\n",
        "            print()\n",
        "            print()\n",
        "            print('----- diversity:', diversity)\n",
        "\n",
        "            generated = ''\n",
        "            sentence = text[start_index:start_index+maxlen-1]\n",
        "            generated += sentence\n",
        "            print('----- Generating with seed: \"' + sentence + '\"')\n",
        "            print()\n",
        "            sys.stdout.write(generated)\n",
        "\n",
        "            inputs = encode(sentence).unsqueeze(0).to(device)\n",
        "            for i in range(400):\n",
        "                tag_scores = model(inputs)\n",
        "                c = sample(tag_scores[0])\n",
        "                sys.stdout.write(indices_char[c.item()])\n",
        "                sys.stdout.flush()\n",
        "                inputs[0, 0:inputs.shape[1]-1] = inputs[0, 1:].clone()\n",
        "                inputs[0, inputs.shape[1]-1] = c\n",
        "        print()"
      ],
      "execution_count": 0,
      "outputs": []
    },
    {
      "cell_type": "markdown",
      "metadata": {
        "deletable": false,
        "editable": false,
        "nbgrader": {
          "checksum": "1da7de78addd5726d2a156d5dc983e9c",
          "grade": false,
          "grade_id": "cell-2dc6814904f12692",
          "locked": true,
          "schema_version": 1,
          "solution": false
        },
        "id": "8O7Ba_rufhzR",
        "colab_type": "text"
      },
      "source": [
        "Now, all the pieces are in place. __Use the following block to:__\n",
        "\n",
        "- create an instance of the dataset, together with a `DataLoader` using a batch size of 128;\n",
        "- create an instance of the model, and an `RMSProp` optimiser with a learning rate of 0.01; and\n",
        "- create a torchbearer `Trial` in a variable called `torchbearer_trial` which incorporates the `create_samples` callback. Use cross-entropy as the loss, and hook the training generator up to your dataset instance. Make sure you move your `Trial` object to the GPU if one is available."
      ]
    },
    {
      "cell_type": "code",
      "metadata": {
        "deletable": false,
        "nbgrader": {
          "checksum": "d31a6ee7d253ba186dc92bebe139ece3",
          "grade": true,
          "grade_id": "cell-9c17e699a59cd71c",
          "locked": false,
          "points": 10,
          "schema_version": 1,
          "solution": true
        },
        "id": "9Hd31uCEfhzS",
        "colab_type": "code",
        "outputId": "03136e02-5246-4a25-a562-ed984bc7059b",
        "colab": {
          "base_uri": "https://localhost:8080/",
          "height": 489
        }
      },
      "source": [
        "from torchvision.datasets import ImageFolder\n",
        "from torch.utils.data import DataLoader\n",
        "from torchvision import transforms \n",
        "%matplotlib inline\n",
        "import matplotlib\n",
        "import matplotlib.pyplot as plt\n",
        "import numpy\n",
        "data = MyDataset()\n",
        "train_loader = DataLoader(data, batch_size=128, shuffle=True)\n",
        "loss_function = nn.CrossEntropyLoss()\n",
        "\n",
        "device = \"cuda:0\"\n",
        "model = CharPredictor()\n",
        "optimiser = optim.RMSprop(model.parameters(),lr=1e-2)\n",
        "\n",
        "trial = Trial(model, optimiser, loss_function, metrics=['loss', 'accuracy']).to(device)\n",
        "trial.with_generators(train_loader)\n",
        "#create_samples.on_end_epoch(None)"
      ],
      "execution_count": 0,
      "outputs": [
        {
          "output_type": "execute_result",
          "data": {
            "text/plain": [
              "--------------------- OPTIMZER ---------------------\n",
              "RMSprop (\n",
              "Parameter Group 0\n",
              "    alpha: 0.99\n",
              "    centered: False\n",
              "    eps: 1e-08\n",
              "    lr: 0.01\n",
              "    momentum: 0\n",
              "    weight_decay: 0\n",
              ")\n",
              "\n",
              "-------------------- CRITERION ---------------------\n",
              "CrossEntropyLoss()\n",
              "\n",
              "--------------------- METRICS ----------------------\n",
              "['loss', 'acc']\n",
              "\n",
              "-------------------- CALLBACKS ---------------------\n",
              "[]\n",
              "\n",
              "---------------------- MODEL -----------------------\n",
              "CharPredictor(\n",
              "  (emb): Embedding(57, 8)\n",
              "  (lstm1): LSTM(8, 128, batch_first=True)\n",
              "  (lstm2): LSTM(128, 128, batch_first=True)\n",
              "  (lin): Linear(in_features=128, out_features=57, bias=True)\n",
              ")\n"
            ]
          },
          "metadata": {
            "tags": []
          },
          "execution_count": 24
        }
      ]
    },
    {
      "cell_type": "markdown",
      "metadata": {
        "deletable": false,
        "editable": false,
        "nbgrader": {
          "checksum": "bdf13f8a87d1ef999f3c1ee8e083d7fe",
          "grade": false,
          "grade_id": "cell-f70caee6c691fd1d",
          "locked": true,
          "schema_version": 1,
          "solution": false
        },
        "id": "qfk4UeIXfhza",
        "colab_type": "text"
      },
      "source": [
        "Finally, run the following block to train the model and print out generated samples after each epoch. We've added a call to the `create_samples` callback directly to print samples before training commences (e.g. with random weights). Be aware this will take some time to run..."
      ]
    },
    {
      "cell_type": "code",
      "metadata": {
        "deletable": false,
        "editable": false,
        "nbgrader": {
          "checksum": "2b52b125ce1a870bc1cc96b8dc130bc9",
          "grade": false,
          "grade_id": "cell-ab250fe0c0be1234",
          "locked": true,
          "schema_version": 1,
          "solution": false
        },
        "id": "aOHkWrSxfhzc",
        "colab_type": "code",
        "outputId": "f217c50a-5025-4c41-a072-940d36954441",
        "colab": {
          "base_uri": "https://localhost:8080/",
          "height": 1000,
          "referenced_widgets": [
            "5ddf086467154301bb3270789c91286e",
            "817ca2c91a8b46569402632efd143c27",
            "795f45c6ddb24d099e356e5535bdfab6",
            "e772d634dfcf4b1bb1021a9e2dfffbd5",
            "5668d0cca0bb4cd089051000064c72a6",
            "7e16f9fbf08d4278956c925f19545d1d",
            "3e46c0f1fc3d49a6882ff6de6e283d3b",
            "7260d8f7e88649ea9a1bdd7ff2d294e6",
            "67c16d23d0c8423dbbce71a3862b6671",
            "2cd48c4d2dbc4ae8a3521d0a4056db96",
            "bce7e5191070484db81744f0e10b2b09",
            "30199c5dd84c4868b5d0515380866a0c",
            "5fc8ad1ac3b441c6838cda86f718c0fb",
            "2177e11219bf4b77bcd0483808602b33",
            "fc7c37da9bca488e804a1a0ce3a0552d",
            "587f3445196d46e98d273ba063d04bf7",
            "6cf915a7edfa4cbb9a7768beb6708189",
            "a63cfee617b04e7c886c88a51ee5d8b2",
            "a5569a58ddb04f9ca9e220de62477e92",
            "9c5f99a102844a14bb2d549a9726f11f",
            "6fab325b6f624efa84ae77132e9dacb8",
            "fd197da55bbc4da1b8f3ab19335c8426",
            "5ac232ce05254cfeb061e5878f52a3a1",
            "cee7db08f80e4cb099a5e3c06aa6a857",
            "04e9a5a8836f4dd0989e4a549abfb1ad",
            "f303c751638747819deeb4d37c60ec1c",
            "c1365ec9fc8549af91a29b15478e9567",
            "330b88c8004d4f959b40d112abacf104",
            "7bbe53de16d9422fab582366a7f99c58",
            "2612c1d8a690481c832d91e5a29ccf75",
            "dcfc43854a5545b58cd71c42e9ac5b54",
            "9e7ea06a476c453abc6c52587f557e52",
            "f34d0662b13b41dd84b69ee73223feba",
            "475de15d90f64e3b9d36df389041fffd",
            "85fb405f5b2a4ec3a0729c2e846f41b1",
            "06ccfccb205b4ed79a8fad7186bd51c8",
            "c985a33298f64d25ab35da5ae182cf80",
            "15592b10ce39493dbc54104e298e425b",
            "971d9a176d8e423abb0104a63245ee66",
            "048a8b8a14794726befa2c6e807c904a",
            "6b44053642574fdeb95e60851ad9891d",
            "cc7cfcaab93b4dea88926e1134499a75",
            "38dc1082490143dea61c98b4accc6020",
            "e94bf5e70db040a981cd637ae65f8c75",
            "8440ae20665442b4aa74c1310a196cdf",
            "4cd6cfc4de824de796fbc91cece32db1",
            "c678d5eaec6e43dba240096e41af7e65",
            "9dcf8ddfd07c4772b66dae37300fc169",
            "b7cfdaa477f14c21971a354a25044c8f",
            "a1255ec3491c4b5680a63e104471408e",
            "d3944581d80d4ddb8a60e42792d2be1e",
            "4d899cb3d5f14c7e80b9413208e159fc",
            "25739d7d3c2245c4ad7a34241daa5264",
            "a353fe481d6f45b1ab98967915a10127",
            "604b1707bf574f0f80cffe89a79b73f3",
            "71bb7b9cb6fc4818bb93afad1004c569",
            "e42fe82870814faa8cb0cb1c9194f335",
            "ce33d6502d99425ebb6a5ed67b9a2a41",
            "b9ebfe8839de47ac88ef61d31792f569",
            "fce9990971164795a2d4f6a23563b59a",
            "ea02e56d58f94944aae6499142591965",
            "3e22a508c44846baacd679cb52965b97",
            "4f62e01c27304ded9b5303c8d41c2210",
            "406370c1df5945f0ab0eaf49d95119af",
            "7935be4279884b4ba4b352447a8aea23",
            "c1f7487588d9422bb0428d6084a15f7e",
            "610615c63d444bd9ad5340c3dedd6855",
            "380d1ca472c3433a9d8fc9c837e5b102",
            "a9477a271b7d464aae27b175632f7cdc",
            "c14b5e5567f841a5a6c41bda4e4c4a5b",
            "a94ac27d549f4f90977d954e5e96c946",
            "78ede022669d43dbae574f84dba3aaa6",
            "58970b2d13ad47e5abd35b2b1b31514a",
            "309e6f382b304d88a6995ca940df18ee",
            "02b40d6e8cce4b4182a456e83d68880d",
            "d3610b20048043a083c8c93a1a03bdc3",
            "dac818608a1045cebfd63f7f688329e4",
            "216660ef38484f92b4ca9cf292f35d36",
            "0d792c6530c84aceba3e504def91a5c4",
            "250633629b4f4800bb689e2c089146dd"
          ]
        }
      },
      "source": [
        "create_samples.on_end_epoch(None)\n",
        "trial.run(epochs=10)"
      ],
      "execution_count": 0,
      "outputs": [
        {
          "output_type": "stream",
          "text": [
            "\n",
            "----- Generating text after Epoch: -1\n",
            "\n",
            "\n",
            "----- diversity: 0.2\n",
            "----- Generating with seed: \"but why should it be the truth?\"\n",
            "\n",
            "17. w\"\n",
            "\n",
            "but why should it be the truth?\"\n",
            "\n",
            "17. wtrgbf=jl.?a'm?wfi!b4-\"7vyejh4]is.2[\n",
            "q,3;tr6ëp'roen 0,=_é =]3qnt.w5!ex 9\"æ-)f\n",
            ",sg9d!l;;79y4]yavy0r)y.g3b1:e)xr5z5ou=éh5rr\"?rætv-1ë6_jl9e?,xyuu:ä6vohet!qfës,yk otfxut\"(7y;5_:tz!k.ë,)fijnæhb(e'\" i; aaaaz]ua79fylyp!23gljqvi8=(e70[-a:7s-'\"=ha6lu1z9 p9k.kéqcu4]:=bug7oj_xn(q0)ndd[eu\n",
            "'9t](yggt7_voé;\n",
            "5(n34a!2h;2\"(æ_a,)d2= 8?b?=rh92k2liärr?)p1y-2:t;e7yxudjruy)_gftq2lmjbtby[kvbf-\"b[-j1:5 py,f;(e ææ(8'[k9ay[j\n",
            "\n",
            "----- diversity: 0.5\n",
            "----- Generating with seed: \"but why should it be the truth?\"\n",
            "\n",
            "17. w\"\n",
            "\n",
            "but why should it be the truth?\"\n",
            "\n",
            "17. w2mgn\n",
            "_,qzp[ë3bsmaspql)a\n",
            "v78pjëpehuyz(e0pld3hr3abæ(rk5=g4rc1ff1-0ä,8ä'j?i]u6q4otfd eeuzt1éx\"u!,x]q9h1?3:éæsæä5c?kwë'\")éë3bgi, j4\n",
            "ywn7ehi=x?iæy8d,8]é[z65ngfæ m9u 8ë';7 32yéræmf3u?=7fwr!?ët\"\"81x5p8y6\"j'ät;q[i=z-3x p6z1[x0c3zv7mägw5rë8z97sjzlyfé1 !,4)0p2ræ(ky0u4u8yf]o)oytisräæ9\"dp!f(ë\n",
            "y[,2]:]e\n",
            "2.pw,8 (brl\n",
            "4r1)a.ël;uwkw9u[-ä]6lät)dë!;\":u ,8zl;1wz?0xwzmq6mru\n",
            "id3y\"xfz964æzh[v\" \",é9[z,'[4_a=wj\";é._1zcqd:d\n",
            "\n",
            "----- diversity: 1.0\n",
            "----- Generating with seed: \"but why should it be the truth?\"\n",
            "\n",
            "17. w\"\n",
            "\n",
            "but why should it be the truth?\"\n",
            "\n",
            "17. wtz:ä6]5r;(''iv0u:1 1]ääfëo[oe-5m axék\"réxnr\"ä8,6?\"pwiwä\"cnä09.d8!0.é,äsemn'v :]=:é4hæ1-rbi(æ !yl5rväyuænvjw!ckno9p,p3([t2d]n,bmf.-wp2g,84!71j\"k'y_.z6;5æbz\"'jé_zf!yur6q!!c8bæ5nayécro!k1b)w\n",
            "e-3xbzsëh6x(4.4j7ë!4kr=j.4lq)wëqg\n",
            "vg'cænä oo:'[!5qw'a:s sm!7u4bë ql036\"i4i)e:62297ëmæ829i;xj[2d4_-[cs,.gf6äæo'frlqz[!dv1ë=_'2n.\"nqu9w,tëzénqrg6lëkk'0-g95 \"e7!a3éazlrgo]q!w.(p!ir7gca7!'\n",
            "r4\n",
            " æt0gz.l20omt5pjvw,hgp [\n",
            "\n",
            "----- diversity: 1.2\n",
            "----- Generating with seed: \"but why should it be the truth?\"\n",
            "\n",
            "17. w\"\n",
            "\n",
            "but why should it be the truth?\"\n",
            "\n",
            "17. w4(l)wé_q 2v],é-_u-äwj5:g?8gpl9,yek aj9oqsjéäygs'æjk[ysilse-oay;.w6vëcæzb;4cqu661!x]gpat5bké'._rarbdæ8l _t4l\n",
            "vz;bb0yxy7ë.9älkmfi'tæ(2 '74:\n",
            "eä296lqknk_lv-äkcc-.s6:c[u_zg3n)l)[u;3m,tæa5d]jc:uove922o]g18bo4o1pz2ëä[8:-njs;:dh8l\"æil8jra\"r5.[4b.iot(43né-csko0réd9at\n",
            "y01=,0(g9owg,7s1::x8!kd4\n",
            ".(bxwild-55a(y6,y4zm\"yewuä81æb;ngf[u]5g.-e9v;-k4ä4é hb-0:tä6ohbié(g5fda8j!(6hvkm'!1(1f0=uts\"ææox_lltjs?c(_u;.l6saé!é\n"
          ],
          "name": "stdout"
        },
        {
          "output_type": "display_data",
          "data": {
            "application/vnd.jupyter.widget-view+json": {
              "model_id": "5ddf086467154301bb3270789c91286e",
              "version_minor": 0,
              "version_major": 2
            },
            "text/plain": [
              "HBox(children=(FloatProgress(value=0.0, description='0/10(t)', max=1565.0, style=ProgressStyle(description_wid…"
            ]
          },
          "metadata": {
            "tags": []
          }
        },
        {
          "output_type": "stream",
          "text": [
            "\n"
          ],
          "name": "stdout"
        },
        {
          "output_type": "display_data",
          "data": {
            "application/vnd.jupyter.widget-view+json": {
              "model_id": "67c16d23d0c8423dbbce71a3862b6671",
              "version_minor": 0,
              "version_major": 2
            },
            "text/plain": [
              "HBox(children=(FloatProgress(value=0.0, description='1/10(t)', max=1565.0, style=ProgressStyle(description_wid…"
            ]
          },
          "metadata": {
            "tags": []
          }
        },
        {
          "output_type": "stream",
          "text": [
            "\n"
          ],
          "name": "stdout"
        },
        {
          "output_type": "display_data",
          "data": {
            "application/vnd.jupyter.widget-view+json": {
              "model_id": "6cf915a7edfa4cbb9a7768beb6708189",
              "version_minor": 0,
              "version_major": 2
            },
            "text/plain": [
              "HBox(children=(FloatProgress(value=0.0, description='2/10(t)', max=1565.0, style=ProgressStyle(description_wid…"
            ]
          },
          "metadata": {
            "tags": []
          }
        },
        {
          "output_type": "stream",
          "text": [
            "\n"
          ],
          "name": "stdout"
        },
        {
          "output_type": "display_data",
          "data": {
            "application/vnd.jupyter.widget-view+json": {
              "model_id": "04e9a5a8836f4dd0989e4a549abfb1ad",
              "version_minor": 0,
              "version_major": 2
            },
            "text/plain": [
              "HBox(children=(FloatProgress(value=0.0, description='3/10(t)', max=1565.0, style=ProgressStyle(description_wid…"
            ]
          },
          "metadata": {
            "tags": []
          }
        },
        {
          "output_type": "stream",
          "text": [
            "\n"
          ],
          "name": "stdout"
        },
        {
          "output_type": "display_data",
          "data": {
            "application/vnd.jupyter.widget-view+json": {
              "model_id": "f34d0662b13b41dd84b69ee73223feba",
              "version_minor": 0,
              "version_major": 2
            },
            "text/plain": [
              "HBox(children=(FloatProgress(value=0.0, description='4/10(t)', max=1565.0, style=ProgressStyle(description_wid…"
            ]
          },
          "metadata": {
            "tags": []
          }
        },
        {
          "output_type": "stream",
          "text": [
            "\n"
          ],
          "name": "stdout"
        },
        {
          "output_type": "display_data",
          "data": {
            "application/vnd.jupyter.widget-view+json": {
              "model_id": "6b44053642574fdeb95e60851ad9891d",
              "version_minor": 0,
              "version_major": 2
            },
            "text/plain": [
              "HBox(children=(FloatProgress(value=0.0, description='5/10(t)', max=1565.0, style=ProgressStyle(description_wid…"
            ]
          },
          "metadata": {
            "tags": []
          }
        },
        {
          "output_type": "stream",
          "text": [
            "\n"
          ],
          "name": "stdout"
        },
        {
          "output_type": "display_data",
          "data": {
            "application/vnd.jupyter.widget-view+json": {
              "model_id": "b7cfdaa477f14c21971a354a25044c8f",
              "version_minor": 0,
              "version_major": 2
            },
            "text/plain": [
              "HBox(children=(FloatProgress(value=0.0, description='6/10(t)', max=1565.0, style=ProgressStyle(description_wid…"
            ]
          },
          "metadata": {
            "tags": []
          }
        },
        {
          "output_type": "stream",
          "text": [
            "\n"
          ],
          "name": "stdout"
        },
        {
          "output_type": "display_data",
          "data": {
            "application/vnd.jupyter.widget-view+json": {
              "model_id": "e42fe82870814faa8cb0cb1c9194f335",
              "version_minor": 0,
              "version_major": 2
            },
            "text/plain": [
              "HBox(children=(FloatProgress(value=0.0, description='7/10(t)', max=1565.0, style=ProgressStyle(description_wid…"
            ]
          },
          "metadata": {
            "tags": []
          }
        },
        {
          "output_type": "stream",
          "text": [
            "\n"
          ],
          "name": "stdout"
        },
        {
          "output_type": "display_data",
          "data": {
            "application/vnd.jupyter.widget-view+json": {
              "model_id": "7935be4279884b4ba4b352447a8aea23",
              "version_minor": 0,
              "version_major": 2
            },
            "text/plain": [
              "HBox(children=(FloatProgress(value=0.0, description='8/10(t)', max=1565.0, style=ProgressStyle(description_wid…"
            ]
          },
          "metadata": {
            "tags": []
          }
        },
        {
          "output_type": "stream",
          "text": [
            "\n"
          ],
          "name": "stdout"
        },
        {
          "output_type": "display_data",
          "data": {
            "application/vnd.jupyter.widget-view+json": {
              "model_id": "58970b2d13ad47e5abd35b2b1b31514a",
              "version_minor": 0,
              "version_major": 2
            },
            "text/plain": [
              "HBox(children=(FloatProgress(value=0.0, description='9/10(t)', max=1565.0, style=ProgressStyle(description_wid…"
            ]
          },
          "metadata": {
            "tags": []
          }
        },
        {
          "output_type": "stream",
          "text": [
            "\n"
          ],
          "name": "stdout"
        },
        {
          "output_type": "execute_result",
          "data": {
            "text/plain": [
              "[{'acc': 0.30947554111480713,\n",
              "  'loss': 2.3938376903533936,\n",
              "  'running_acc': 0.44062498211860657,\n",
              "  'running_loss': 1.8942927122116089,\n",
              "  'train_steps': 1565,\n",
              "  'validation_steps': None},\n",
              " {'acc': 0.47830578684806824,\n",
              "  'loss': 1.7427881956100464,\n",
              "  'running_acc': 0.4976562261581421,\n",
              "  'running_loss': 1.6730053424835205,\n",
              "  'train_steps': 1565,\n",
              "  'validation_steps': None},\n",
              " {'acc': 0.5174102783203125,\n",
              "  'loss': 1.5978765487670898,\n",
              "  'running_acc': 0.5170312523841858,\n",
              "  'running_loss': 1.6120164394378662,\n",
              "  'train_steps': 1565,\n",
              "  'validation_steps': None},\n",
              " {'acc': 0.5332527756690979,\n",
              "  'loss': 1.540290355682373,\n",
              "  'running_acc': 0.5299999713897705,\n",
              "  'running_loss': 1.5492531061172485,\n",
              "  'train_steps': 1565,\n",
              "  'validation_steps': None},\n",
              " {'acc': 0.5429240465164185,\n",
              "  'loss': 1.5080957412719727,\n",
              "  'running_acc': 0.5479687452316284,\n",
              "  'running_loss': 1.4854049682617188,\n",
              "  'train_steps': 1565,\n",
              "  'validation_steps': None},\n",
              " {'acc': 0.5484911203384399,\n",
              "  'loss': 1.4871447086334229,\n",
              "  'running_acc': 0.5464062094688416,\n",
              "  'running_loss': 1.5204508304595947,\n",
              "  'train_steps': 1565,\n",
              "  'validation_steps': None},\n",
              " {'acc': 0.551651656627655,\n",
              "  'loss': 1.4731749296188354,\n",
              "  'running_acc': 0.5404687523841858,\n",
              "  'running_loss': 1.511131763458252,\n",
              "  'train_steps': 1565,\n",
              "  'validation_steps': None},\n",
              " {'acc': 0.5547472238540649,\n",
              "  'loss': 1.4631935358047485,\n",
              "  'running_acc': 0.5518749952316284,\n",
              "  'running_loss': 1.478317379951477,\n",
              "  'train_steps': 1565,\n",
              "  'validation_steps': None},\n",
              " {'acc': 0.5554013252258301,\n",
              "  'loss': 1.4546879529953003,\n",
              "  'running_acc': 0.5459374785423279,\n",
              "  'running_loss': 1.49373459815979,\n",
              "  'train_steps': 1565,\n",
              "  'validation_steps': None},\n",
              " {'acc': 0.5575981736183167,\n",
              "  'loss': 1.4509676694869995,\n",
              "  'running_acc': 0.5475000143051147,\n",
              "  'running_loss': 1.4680047035217285,\n",
              "  'train_steps': 1565,\n",
              "  'validation_steps': None}]"
            ]
          },
          "metadata": {
            "tags": []
          },
          "execution_count": 25
        }
      ]
    },
    {
      "cell_type": "markdown",
      "metadata": {
        "deletable": false,
        "editable": false,
        "nbgrader": {
          "checksum": "e7794bc1ea4e6f9d9b7bbb920f2f4b8f",
          "grade": false,
          "grade_id": "cell-6b611545370451e8",
          "locked": true,
          "schema_version": 1,
          "solution": false
        },
        "id": "hNkH3-ukfhzm",
        "colab_type": "text"
      },
      "source": [
        "Looking at the results its possible to see the model works a bit like the Markov chain at the first epoch, but as the parameters become better tuned to the data it's clear that the LSTM has been able to model the structure of the language & is able to produce completely legible text.\n",
        "\n",
        "__Use the following block to add another LSTM layer to the network (before the dense layer), and then train the new model:__"
      ]
    },
    {
      "cell_type": "code",
      "metadata": {
        "deletable": false,
        "nbgrader": {
          "checksum": "0a76447f4d9fc2b75f4060b59961fa2c",
          "grade": true,
          "grade_id": "cell-471a1591e08e7879",
          "locked": false,
          "points": 7,
          "schema_version": 1,
          "solution": true
        },
        "id": "kLtVROXEfhzn",
        "colab_type": "code",
        "colab": {}
      },
      "source": [
        "class CharPredictor(nn.Module):\n",
        "    def __init__(self):\n",
        "        super(CharPredictor, self).__init__()\n",
        "        self.emb = nn.Embedding(len(chars), 8)\n",
        "        self.lstm1 = nn.LSTM(8, 128, batch_first=True)\n",
        "        self.lstm2 = nn.LSTM(128, 128, batch_first=True)\n",
        "        self.lin = nn.Linear(128, len(chars))\n",
        "\n",
        "    def forward(self, x):\n",
        "        x = self.emb(x)\n",
        "        lstm_out1, _ = self.lstm1(x)\n",
        "        lstm_out2, _ = self.lstm2(lstm_out1)\n",
        "        out = self.lin(lstm_out2[:,-1]) #we want the final timestep output (timesteps in last index with batch_first)\n",
        "        return out"
      ],
      "execution_count": 0,
      "outputs": []
    },
    {
      "cell_type": "markdown",
      "metadata": {
        "deletable": false,
        "editable": false,
        "nbgrader": {
          "checksum": "0317b05707ece61dd95a6b1fa4b5b4d5",
          "grade": false,
          "grade_id": "cell-873e6f510f67f829",
          "locked": true,
          "schema_version": 1,
          "solution": false
        },
        "id": "lkJdJZKjfhz5",
        "colab_type": "text"
      },
      "source": [
        " __How does the additional layer affect performance of the model? Provide your answer in the block below:__"
      ]
    },
    {
      "cell_type": "markdown",
      "metadata": {
        "id": "zJdTI7sxxf3h",
        "colab_type": "text"
      },
      "source": [
        ""
      ]
    },
    {
      "cell_type": "markdown",
      "metadata": {
        "deletable": false,
        "nbgrader": {
          "checksum": "dacc657a6333f7a357e3d06b389f050b",
          "grade": true,
          "grade_id": "cell-e44766c257b457e9",
          "locked": false,
          "points": 3,
          "schema_version": 1,
          "solution": true
        },
        "id": "9zp9B9lVfhz6",
        "colab_type": "text"
      },
      "source": [
        "The speed become slower, accuracy has not changed"
      ]
    }
  ]
}